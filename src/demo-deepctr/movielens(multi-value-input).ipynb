{
 "cells": [
  {
   "cell_type": "markdown",
   "id": "cda5dc71",
   "metadata": {},
   "source": [
    "https://deepctr-doc.readthedocs.io/en/latest/Examples.html#regression-movielens"
   ]
  },
  {
   "cell_type": "code",
   "execution_count": 1,
   "id": "ac34663f",
   "metadata": {},
   "outputs": [],
   "source": [
    "import os\n",
    "\n",
    "DIR_DATA = os.path.join(os.environ[\"HOME\"], \"workspace/third_party/shenweichen/DeepCTR/examples\")"
   ]
  },
  {
   "cell_type": "code",
   "execution_count": 2,
   "id": "a812dc4f",
   "metadata": {},
   "outputs": [],
   "source": [
    "import numpy as np\n",
    "import pandas as pd\n",
    "from sklearn.preprocessing import LabelEncoder\n",
    "from tensorflow.python.keras.preprocessing.sequence import pad_sequences\n",
    "\n",
    "from deepctr.models import DeepFM\n",
    "from deepctr.feature_column import SparseFeat, VarLenSparseFeat, get_feature_names"
   ]
  },
  {
   "cell_type": "code",
   "execution_count": 3,
   "id": "b76b2a7a",
   "metadata": {},
   "outputs": [],
   "source": [
    "def split(x):\n",
    "    key_ans = x.split('|')\n",
    "    for key in key_ans:\n",
    "        if key not in key2index:\n",
    "            # Notice : input value 0 is a special \"padding\",so we do not use 0 to encode valid feature for sequence input\n",
    "            key2index[key] = len(key2index) + 1\n",
    "    return list(map(lambda x: key2index[x], key_ans))\n"
   ]
  },
  {
   "cell_type": "code",
   "execution_count": 4,
   "id": "eb4d494f",
   "metadata": {},
   "outputs": [],
   "source": [
    "data = pd.read_csv(os.path.join(DIR_DATA, \"movielens_sample.txt\"))\n",
    "\n",
    "sparse_features = [\"movie_id\", \"user_id\", \"gender\", \"age\", \"occupation\", \"zip\"]\n",
    "target = ['rating']"
   ]
  },
  {
   "cell_type": "code",
   "execution_count": 5,
   "id": "fbec8534",
   "metadata": {},
   "outputs": [],
   "source": [
    "# 1.Label Encoding for sparse features,and process sequence features\n",
    "for feat in sparse_features:\n",
    "    lbe = LabelEncoder()\n",
    "    data[feat] = lbe.fit_transform(data[feat])"
   ]
  },
  {
   "cell_type": "code",
   "execution_count": 6,
   "id": "79cfcccc",
   "metadata": {},
   "outputs": [],
   "source": [
    "# preprocess the sequence feature\n",
    "\n",
    "key2index = {}\n",
    "genres_list = list(map(split, data['genres'].values))\n",
    "genres_length = np.array(list(map(len, genres_list)))\n",
    "max_len = max(genres_length)\n",
    "# Notice : padding=`post`\n",
    "genres_list = pad_sequences(genres_list, maxlen=max_len, padding='post', )\n"
   ]
  },
  {
   "cell_type": "code",
   "execution_count": 7,
   "id": "1d0650ce",
   "metadata": {},
   "outputs": [],
   "source": [
    "# 2.count #unique features for each sparse field and generate feature config for sequence feature\n",
    "\n",
    "fixlen_feature_columns = [\n",
    "    SparseFeat(feat, data[feat].max() + 1, embedding_dim=4)\n",
    "    for feat in sparse_features\n",
    "]\n",
    "\n",
    "use_weighted_sequence = False\n",
    "if use_weighted_sequence:\n",
    "    varlen_feature_columns = [\n",
    "        VarLenSparseFeat(\n",
    "            SparseFeat('genres', vocabulary_size=len(key2index) + 1, embedding_dim=4),\n",
    "            maxlen=max_len, combiner='mean',\n",
    "            weight_name='genres_weight'\n",
    "        )\n",
    "    ]  # Notice : value 0 is for padding for sequence input feature\n",
    "else:\n",
    "    varlen_feature_columns = [\n",
    "        VarLenSparseFeat(\n",
    "            SparseFeat('genres', vocabulary_size=len(key2index) + 1, embedding_dim=4),\n",
    "            maxlen=max_len, combiner='mean', weight_name=None\n",
    "        )\n",
    "    ]  # Notice : value 0 is for padding for sequence input feature"
   ]
  },
  {
   "cell_type": "code",
   "execution_count": 8,
   "id": "5d31465c",
   "metadata": {},
   "outputs": [],
   "source": [
    "linear_feature_columns = fixlen_feature_columns + varlen_feature_columns\n",
    "dnn_feature_columns = fixlen_feature_columns + varlen_feature_columns"
   ]
  },
  {
   "cell_type": "code",
   "execution_count": 9,
   "id": "54edaab0",
   "metadata": {},
   "outputs": [],
   "source": [
    "feature_names = get_feature_names(linear_feature_columns + dnn_feature_columns)"
   ]
  },
  {
   "cell_type": "code",
   "execution_count": 10,
   "id": "47517a58",
   "metadata": {},
   "outputs": [],
   "source": [
    "# 3.generate input data for model\n",
    "model_input = {name: data[name] for name in feature_names}  #\n",
    "model_input[\"genres\"] = genres_list\n",
    "model_input[\"genres_weight\"] = np.random.randn(data.shape[0], max_len, 1)"
   ]
  },
  {
   "cell_type": "code",
   "execution_count": 11,
   "id": "4be3c222",
   "metadata": {},
   "outputs": [
    {
     "name": "stderr",
     "output_type": "stream",
     "text": [
      "2022-09-24 20:56:57.423384: I tensorflow/core/platform/cpu_feature_guard.cc:151] This TensorFlow binary is optimized with oneAPI Deep Neural Network Library (oneDNN) to use the following CPU instructions in performance-critical operations:  AVX2 FMA\n",
      "To enable them in other operations, rebuild TensorFlow with the appropriate compiler flags.\n"
     ]
    }
   ],
   "source": [
    "# 4.Define Model,compile and train\n",
    "model = DeepFM(linear_feature_columns, dnn_feature_columns, task='regression')"
   ]
  },
  {
   "cell_type": "code",
   "execution_count": 12,
   "id": "2c23cbfe",
   "metadata": {},
   "outputs": [],
   "source": [
    "model.compile(\n",
    "    \"adam\",\n",
    "    \"mse\",\n",
    "    metrics=['mse'],\n",
    ")"
   ]
  },
  {
   "cell_type": "code",
   "execution_count": 13,
   "id": "03851c71",
   "metadata": {},
   "outputs": [
    {
     "name": "stdout",
     "output_type": "stream",
     "text": [
      "Epoch 1/10\n"
     ]
    },
    {
     "name": "stderr",
     "output_type": "stream",
     "text": [
      "/Users/lxh/.virtualenv/alisa/lib/python3.8/site-packages/tensorflow/python/keras/engine/functional.py:587: UserWarning: Input dict contained keys ['genres_weight'] which did not match any model input. They will be ignored by the model.\n",
      "  warnings.warn(\n"
     ]
    },
    {
     "name": "stdout",
     "output_type": "stream",
     "text": [
      "1/1 - 2s - loss: 14.3000 - mse: 14.3000 - val_loss: 13.3689 - val_mse: 13.3689\n",
      "Epoch 2/10\n",
      "1/1 - 0s - loss: 14.1453 - mse: 14.1453 - val_loss: 13.2167 - val_mse: 13.2167\n",
      "Epoch 3/10\n",
      "1/1 - 0s - loss: 13.9668 - mse: 13.9668 - val_loss: 13.0506 - val_mse: 13.0506\n",
      "Epoch 4/10\n",
      "1/1 - 0s - loss: 13.7731 - mse: 13.7731 - val_loss: 12.8710 - val_mse: 12.8710\n",
      "Epoch 5/10\n",
      "1/1 - 0s - loss: 13.5643 - mse: 13.5643 - val_loss: 12.6744 - val_mse: 12.6744\n",
      "Epoch 6/10\n",
      "1/1 - 0s - loss: 13.3360 - mse: 13.3360 - val_loss: 12.4587 - val_mse: 12.4587\n",
      "Epoch 7/10\n",
      "1/1 - 0s - loss: 13.0857 - mse: 13.0857 - val_loss: 12.2216 - val_mse: 12.2216\n",
      "Epoch 8/10\n",
      "1/1 - 0s - loss: 12.8117 - mse: 12.8117 - val_loss: 11.9612 - val_mse: 11.9612\n",
      "Epoch 9/10\n",
      "1/1 - 0s - loss: 12.5106 - mse: 12.5106 - val_loss: 11.6753 - val_mse: 11.6753\n",
      "Epoch 10/10\n",
      "1/1 - 0s - loss: 12.1804 - mse: 12.1804 - val_loss: 11.3614 - val_mse: 11.3614\n"
     ]
    }
   ],
   "source": [
    "history = model.fit(\n",
    "    model_input,\n",
    "    data[target].values,\n",
    "    batch_size=256,\n",
    "    epochs=10,\n",
    "    verbose=2,\n",
    "    validation_split=0.2,\n",
    ")"
   ]
  },
  {
   "cell_type": "code",
   "execution_count": 14,
   "id": "a0273236",
   "metadata": {},
   "outputs": [],
   "source": [
    "history_df = pd.DataFrame(history.history)"
   ]
  },
  {
   "cell_type": "code",
   "execution_count": 15,
   "id": "44bc2c20",
   "metadata": {},
   "outputs": [
    {
     "data": {
      "text/plain": [
       "<AxesSubplot:title={'center':'MSE'}>"
      ]
     },
     "execution_count": 15,
     "metadata": {},
     "output_type": "execute_result"
    },
    {
     "data": {
      "image/png": "[encoded data removed]",
      "text/plain": [
       "<Figure size 432x288 with 1 Axes>"
      ]
     },
     "metadata": {
      "needs_background": "light"
     },
     "output_type": "display_data"
    }
   ],
   "source": [
    "history_df.loc[:, ['mse', 'val_mse']].plot(title=\"MSE\")"
   ]
  },
  {
   "cell_type": "code",
   "execution_count": null,
   "id": "8b96873a",
   "metadata": {},
   "outputs": [],
   "source": []
  }
 ],
 "metadata": {
  "kernelspec": {
   "display_name": "Python 3 (ipykernel)",
   "language": "python",
   "name": "python3"
  },
  "language_info": {
   "codemirror_mode": {
    "name": "ipython",
    "version": 3
   },
   "file_extension": ".py",
   "mimetype": "text/x-python",
   "name": "python",
   "nbconvert_exporter": "python",
   "pygments_lexer": "ipython3",
   "version": "3.8.2"
  }
 },
 "nbformat": 4,
 "nbformat_minor": 5
}
