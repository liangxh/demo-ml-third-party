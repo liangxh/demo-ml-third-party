{
 "cells": [
  {
   "cell_type": "markdown",
   "id": "c54632ed",
   "metadata": {},
   "source": [
    "https://deepctr-doc.readthedocs.io/en/latest/Examples.html#multitask-learning-mmoe"
   ]
  },
  {
   "cell_type": "code",
   "execution_count": null,
   "id": "d51c2204",
   "metadata": {},
   "outputs": [],
   "source": [
    "import os\n",
    "\n",
    "DIR_DATA = os.path.join(os.environ[\"HOME\"], \"workspace/third_party/shenweichen/DeepCTR/examples\")"
   ]
  },
  {
   "cell_type": "code",
   "execution_count": null,
   "id": "fa7d3918",
   "metadata": {},
   "outputs": [],
   "source": [
    "import pandas as pd\n",
    "from sklearn.metrics import roc_auc_score\n",
    "from sklearn.model_selection import train_test_split\n",
    "from sklearn.preprocessing import LabelEncoder, MinMaxScaler"
   ]
  },
  {
   "cell_type": "code",
   "execution_count": null,
   "id": "f17f1632",
   "metadata": {},
   "outputs": [],
   "source": [
    "from deepctr.feature_column import SparseFeat, DenseFeat, get_feature_names\n",
    "from deepctr.models import MMOE"
   ]
  },
  {
   "cell_type": "code",
   "execution_count": null,
   "id": "a7f9fb68",
   "metadata": {},
   "outputs": [],
   "source": [
    "column_names = [\n",
    "    'age', 'class_worker', 'det_ind_code', 'det_occ_code', 'education', 'wage_per_hour', 'hs_college',\n",
    "    'marital_stat', 'major_ind_code', 'major_occ_code', 'race', 'hisp_origin', 'sex', 'union_member',\n",
    "    'unemp_reason', 'full_or_part_emp', 'capital_gains', 'capital_losses', 'stock_dividends',\n",
    "    'tax_filer_stat', 'region_prev_res', 'state_prev_res', 'det_hh_fam_stat', 'det_hh_summ',\n",
    "    'instance_weight', 'mig_chg_msa', 'mig_chg_reg', 'mig_move_reg', 'mig_same', 'mig_prev_sunbelt',\n",
    "    'num_emp', 'fam_under_18', 'country_father', 'country_mother', 'country_self', 'citizenship',\n",
    "    'own_or_self', 'vet_question', 'vet_benefits', 'weeks_worked', 'year', 'income_50k'\n",
    "]\n",
    "data = pd.read_csv(os.path.join(DIR_DATA, 'census-income.sample'), header=None, names=column_names)"
   ]
  },
  {
   "cell_type": "code",
   "execution_count": null,
   "id": "28534d38",
   "metadata": {},
   "outputs": [],
   "source": [
    "data['label_income'] = data['income_50k'].map({' - 50000.': 0, ' 50000+.': 1})\n",
    "data['label_marital'] = data['marital_stat'].apply(lambda x: 1 if x == ' Never married' else 0)\n",
    "data.drop(labels=['income_50k', 'marital_stat'], axis=1, inplace=True)"
   ]
  },
  {
   "cell_type": "code",
   "execution_count": null,
   "id": "93746ad9",
   "metadata": {},
   "outputs": [],
   "source": [
    "columns = data.columns.values.tolist()"
   ]
  },
  {
   "cell_type": "code",
   "execution_count": null,
   "id": "14d79c72",
   "metadata": {},
   "outputs": [],
   "source": [
    "sparse_features = [\n",
    "    'class_worker', 'det_ind_code', 'det_occ_code', 'education', 'hs_college', 'major_ind_code',\n",
    "    'major_occ_code', 'race', 'hisp_origin', 'sex', 'union_member', 'unemp_reason',\n",
    "    'full_or_part_emp', 'tax_filer_stat', 'region_prev_res', 'state_prev_res', 'det_hh_fam_stat',\n",
    "    'det_hh_summ', 'mig_chg_msa', 'mig_chg_reg', 'mig_move_reg', 'mig_same', 'mig_prev_sunbelt',\n",
    "    'fam_under_18', 'country_father', 'country_mother', 'country_self', 'citizenship',\n",
    "    'vet_question'\n",
    "]"
   ]
  },
  {
   "cell_type": "code",
   "execution_count": null,
   "id": "629bfaff",
   "metadata": {},
   "outputs": [],
   "source": [
    "dense_features = [\n",
    "    col\n",
    "    for col in columns\n",
    "    if col not in sparse_features and col not in ['label_income', 'label_marital']\n",
    "]"
   ]
  },
  {
   "cell_type": "code",
   "execution_count": null,
   "id": "63b83cc8",
   "metadata": {},
   "outputs": [],
   "source": [
    "data[sparse_features] = data[sparse_features].fillna('-1', )\n",
    "data[dense_features] = data[dense_features].fillna(0, )"
   ]
  },
  {
   "cell_type": "code",
   "execution_count": null,
   "id": "d990e74a",
   "metadata": {},
   "outputs": [],
   "source": [
    "mms = MinMaxScaler(feature_range=(0, 1))\n",
    "data[dense_features] = mms.fit_transform(data[dense_features])"
   ]
  },
  {
   "cell_type": "code",
   "execution_count": null,
   "id": "ab004d2f",
   "metadata": {},
   "outputs": [],
   "source": [
    "for feat in sparse_features:\n",
    "    lbe = LabelEncoder()\n",
    "    data[feat] = lbe.fit_transform(data[feat])"
   ]
  },
  {
   "cell_type": "code",
   "execution_count": null,
   "id": "87dd1840",
   "metadata": {},
   "outputs": [],
   "source": [
    "fixlen_feature_columns = [\n",
    "    SparseFeat(feat, data[feat].max() + 1, embedding_dim=4)\n",
    "    for feat in sparse_features\n",
    "] + [\n",
    "    DenseFeat(feat, 1, )\n",
    "    for feat in dense_features\n",
    "]"
   ]
  },
  {
   "cell_type": "code",
   "execution_count": null,
   "id": "5af8b3b8",
   "metadata": {},
   "outputs": [],
   "source": [
    "dnn_feature_columns = fixlen_feature_columns\n",
    "linear_feature_columns = fixlen_feature_columns"
   ]
  },
  {
   "cell_type": "code",
   "execution_count": null,
   "id": "12cc98cf",
   "metadata": {},
   "outputs": [],
   "source": [
    "feature_names = get_feature_names(linear_feature_columns + dnn_feature_columns)\n"
   ]
  },
  {
   "cell_type": "code",
   "execution_count": null,
   "id": "1936d2f7",
   "metadata": {},
   "outputs": [],
   "source": [
    "# 3.generate input data for model\n",
    "train, test = train_test_split(data, test_size=0.2, random_state=2020)\n",
    "\n",
    "train_model_input = {name: train[name] for name in feature_names}\n",
    "test_model_input = {name: test[name] for name in feature_names}"
   ]
  },
  {
   "cell_type": "code",
   "execution_count": null,
   "id": "794f4c22",
   "metadata": {},
   "outputs": [],
   "source": [
    "# 4.Define Model,train,predict and evaluate\n",
    "model = MMOE(\n",
    "    dnn_feature_columns,\n",
    "    tower_dnn_hidden_units=[],\n",
    "    task_types=['binary', 'binary'],\n",
    "    task_names=['label_income', 'label_marital']\n",
    ")"
   ]
  },
  {
   "cell_type": "code",
   "execution_count": null,
   "id": "ab492196",
   "metadata": {},
   "outputs": [],
   "source": [
    "model.compile(\n",
    "    \"adam\",\n",
    "    loss=[\"binary_crossentropy\", \"binary_crossentropy\"],\n",
    "    metrics=['binary_crossentropy'],\n",
    ")"
   ]
  },
  {
   "cell_type": "code",
   "execution_count": null,
   "id": "a11cd04c",
   "metadata": {},
   "outputs": [],
   "source": [
    "history = model.fit(\n",
    "    train_model_input,\n",
    "    [train['label_income'].values, train['label_marital'].values],\n",
    "    batch_size=256,\n",
    "    epochs=50,\n",
    "    verbose=2,\n",
    "    validation_split=0.2\n",
    ")"
   ]
  },
  {
   "cell_type": "code",
   "execution_count": null,
   "id": "c5c1d394",
   "metadata": {},
   "outputs": [],
   "source": [
    "pred_ans = model.predict(test_model_input, batch_size=256)"
   ]
  },
  {
   "cell_type": "code",
   "execution_count": null,
   "id": "d65199a2",
   "metadata": {},
   "outputs": [],
   "source": [
    "print(\"test income AUC\", round(roc_auc_score(test['label_income'], pred_ans[0]), 4))"
   ]
  },
  {
   "cell_type": "code",
   "execution_count": null,
   "id": "fc4bbc13",
   "metadata": {},
   "outputs": [],
   "source": [
    "print(\"test marital AUC\", round(roc_auc_score(test['label_marital'], pred_ans[1]), 4))"
   ]
  },
  {
   "cell_type": "code",
   "execution_count": null,
   "id": "075627c9",
   "metadata": {},
   "outputs": [],
   "source": [
    "history_df = pd.DataFrame(history.history)"
   ]
  },
  {
   "cell_type": "code",
   "execution_count": null,
   "id": "4829186f",
   "metadata": {},
   "outputs": [],
   "source": [
    "history_df.columns"
   ]
  },
  {
   "cell_type": "code",
   "execution_count": null,
   "id": "f28b5817",
   "metadata": {},
   "outputs": [],
   "source": [
    "history_df.loc[:, ['loss', 'val_loss']].plot(title=\"Loss\")"
   ]
  },
  {
   "cell_type": "code",
   "execution_count": null,
   "id": "7f737172",
   "metadata": {},
   "outputs": [],
   "source": [
    "history_df.loc[:, ['label_income_loss', 'val_label_income_loss']].plot(title=\"Loss\")"
   ]
  },
  {
   "cell_type": "code",
   "execution_count": null,
   "id": "7a02a46f",
   "metadata": {},
   "outputs": [],
   "source": [
    "history_df.loc[:, ['label_marital_loss', 'val_label_marital_loss']].plot(title=\"Loss\")"
   ]
  },
  {
   "cell_type": "code",
   "execution_count": null,
   "id": "47850021",
   "metadata": {},
   "outputs": [],
   "source": []
  },
  {
   "cell_type": "code",
   "execution_count": null,
   "id": "ab8c55c7",
   "metadata": {},
   "outputs": [],
   "source": []
  }
 ],
 "metadata": {
  "kernelspec": {
   "display_name": "Python 3 (ipykernel)",
   "language": "python",
   "name": "python3"
  },
  "language_info": {
   "codemirror_mode": {
    "name": "ipython",
    "version": 3
   },
   "file_extension": ".py",
   "mimetype": "text/x-python",
   "name": "python",
   "nbconvert_exporter": "python",
   "pygments_lexer": "ipython3",
   "version": "3.8.2"
  }
 },
 "nbformat": 4,
 "nbformat_minor": 5
}
