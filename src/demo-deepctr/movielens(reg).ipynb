{
 "cells": [
  {
   "cell_type": "markdown",
   "id": "87b4958d",
   "metadata": {},
   "source": [
    "https://deepctr-doc.readthedocs.io/en/latest/Examples.html#regression-movielens"
   ]
  },
  {
   "cell_type": "code",
   "execution_count": null,
   "id": "882d4bb2",
   "metadata": {},
   "outputs": [],
   "source": [
    "import os\n",
    "\n",
    "DIR_DATA = os.path.join(os.environ[\"HOME\"], \"workspace/third_party/shenweichen/DeepCTR/examples\")"
   ]
  },
  {
   "cell_type": "code",
   "execution_count": null,
   "id": "3917abe5",
   "metadata": {},
   "outputs": [],
   "source": [
    "import pandas as pd\n",
    "from sklearn.metrics import mean_squared_error\n",
    "from sklearn.model_selection import train_test_split\n",
    "from sklearn.preprocessing import LabelEncoder\n",
    "\n",
    "from deepctr.models import DeepFM\n",
    "from deepctr.feature_column import SparseFeat, get_feature_names"
   ]
  },
  {
   "cell_type": "code",
   "execution_count": null,
   "id": "8e8231c9",
   "metadata": {},
   "outputs": [],
   "source": [
    "data = pd.read_csv(os.path.join(DIR_DATA, \"movielens_sample.txt\"))\n",
    "sparse_features = [\"movie_id\", \"user_id\", \"gender\", \"age\", \"occupation\", \"zip\"]\n",
    "target = ['rating']"
   ]
  },
  {
   "cell_type": "code",
   "execution_count": null,
   "id": "51d162c9",
   "metadata": {},
   "outputs": [],
   "source": [
    "# 1.Label Encoding for sparse features,and do simple Transformation for dense features\n",
    "for feat in sparse_features:\n",
    "    lbe = LabelEncoder()\n",
    "    data[feat] = lbe.fit_transform(data[feat])"
   ]
  },
  {
   "cell_type": "code",
   "execution_count": null,
   "id": "30b74379",
   "metadata": {},
   "outputs": [],
   "source": [
    "# 2.count #unique features for each sparse field\n",
    "fixlen_feature_columns = [\n",
    "    SparseFeat(feat, data[feat].max() + 1, embedding_dim=4)\n",
    "    for feat in sparse_features\n",
    "]"
   ]
  },
  {
   "cell_type": "code",
   "execution_count": null,
   "id": "ba8f9b40",
   "metadata": {},
   "outputs": [],
   "source": [
    "linear_feature_columns = fixlen_feature_columns\n",
    "dnn_feature_columns = fixlen_feature_columns"
   ]
  },
  {
   "cell_type": "code",
   "execution_count": null,
   "id": "59374602",
   "metadata": {},
   "outputs": [],
   "source": [
    "feature_names = get_feature_names(linear_feature_columns + dnn_feature_columns)"
   ]
  },
  {
   "cell_type": "code",
   "execution_count": null,
   "id": "6c594059",
   "metadata": {},
   "outputs": [],
   "source": [
    "# 3.generate input data for model\n",
    "train, test = train_test_split(data, test_size=0.2, random_state=2020)\n",
    "\n",
    "train_model_input = {name: train[name].values for name in feature_names}\n",
    "test_model_input = {name: test[name].values for name in feature_names}"
   ]
  },
  {
   "cell_type": "code",
   "execution_count": null,
   "id": "9d168dd0",
   "metadata": {},
   "outputs": [],
   "source": [
    "# 4.Define Model,train,predict and evaluate\n",
    "model = DeepFM(\n",
    "    linear_feature_columns,\n",
    "    dnn_feature_columns,\n",
    "    task='regression'\n",
    ")"
   ]
  },
  {
   "cell_type": "code",
   "execution_count": null,
   "id": "d870487d",
   "metadata": {},
   "outputs": [],
   "source": [
    "model.compile(\n",
    "    \"adam\",\n",
    "    loss=\"mse\",\n",
    "    metrics=['mse']\n",
    ")"
   ]
  },
  {
   "cell_type": "code",
   "execution_count": null,
   "id": "92645054",
   "metadata": {},
   "outputs": [],
   "source": [
    "history = model.fit(\n",
    "    train_model_input,\n",
    "    train[target].values,\n",
    "    batch_size=256,\n",
    "    epochs=80,\n",
    "    verbose=2,\n",
    "    validation_split=0.2\n",
    ")"
   ]
  },
  {
   "cell_type": "code",
   "execution_count": null,
   "id": "1139eff4",
   "metadata": {},
   "outputs": [],
   "source": [
    "pred_ans = model.predict(\n",
    "    test_model_input,\n",
    "    batch_size=256\n",
    ")"
   ]
  },
  {
   "cell_type": "code",
   "execution_count": null,
   "id": "20b6b768",
   "metadata": {},
   "outputs": [],
   "source": [
    "print(\"test MSE\", round(mean_squared_error(test[target].values, pred_ans), 4))"
   ]
  },
  {
   "cell_type": "code",
   "execution_count": null,
   "id": "b2ec93dd",
   "metadata": {},
   "outputs": [],
   "source": [
    "history_df = pd.DataFrame(history.history)"
   ]
  },
  {
   "cell_type": "code",
   "execution_count": null,
   "id": "6ac11695",
   "metadata": {},
   "outputs": [],
   "source": [
    "history_df.loc[:, ['mse', 'val_mse']].plot(title=\"MSE\")"
   ]
  },
  {
   "cell_type": "code",
   "execution_count": null,
   "id": "83595dd3",
   "metadata": {},
   "outputs": [],
   "source": []
  }
 ],
 "metadata": {
  "kernelspec": {
   "display_name": "Python 3 (ipykernel)",
   "language": "python",
   "name": "python3"
  },
  "language_info": {
   "codemirror_mode": {
    "name": "ipython",
    "version": 3
   },
   "file_extension": ".py",
   "mimetype": "text/x-python",
   "name": "python",
   "nbconvert_exporter": "python",
   "pygments_lexer": "ipython3",
   "version": "3.8.2"
  }
 },
 "nbformat": 4,
 "nbformat_minor": 5
}
