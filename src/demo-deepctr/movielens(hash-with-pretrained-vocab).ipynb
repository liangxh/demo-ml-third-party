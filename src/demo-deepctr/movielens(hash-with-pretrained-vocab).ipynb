{
 "cells": [
  {
   "cell_type": "markdown",
   "id": "c0f69cb7",
   "metadata": {},
   "source": [
    "https://deepctr-doc.readthedocs.io/en/latest/Examples.html#hash-layer-with-pre-defined-key-value-vocabulary"
   ]
  },
  {
   "cell_type": "code",
   "execution_count": null,
   "id": "d69d36a4",
   "metadata": {},
   "outputs": [],
   "source": [
    "import os\n",
    "\n",
    "DIR_DATA = os.path.join(os.environ[\"HOME\"], \"workspace/third_party/shenweichen/DeepCTR/examples\")"
   ]
  },
  {
   "cell_type": "code",
   "execution_count": null,
   "id": "5e335740",
   "metadata": {},
   "outputs": [],
   "source": [
    "import pandas as pd\n",
    "import tensorflow as tf\n",
    "\n",
    "from tensorflow.python.ops.parsing_ops import FixedLenFeature\n",
    "from deepctr.estimator import DeepFMEstimator\n",
    "from deepctr.estimator.inputs import input_fn_tfrecord"
   ]
  },
  {
   "cell_type": "code",
   "execution_count": null,
   "id": "02f05ba6",
   "metadata": {},
   "outputs": [],
   "source": [
    "# 1.generate feature_column for linear part and dnn part\n",
    "\n",
    "sparse_features = ['C' + str(i) for i in range(1, 27)]\n",
    "dense_features = ['I' + str(i) for i in range(1, 14)]"
   ]
  },
  {
   "cell_type": "code",
   "execution_count": null,
   "id": "13eb423b",
   "metadata": {},
   "outputs": [],
   "source": [
    "dnn_feature_columns = []\n",
    "linear_feature_columns = []"
   ]
  },
  {
   "cell_type": "code",
   "execution_count": null,
   "id": "69e4c89d",
   "metadata": {},
   "outputs": [],
   "source": [
    "for i, feat in enumerate(sparse_features):\n",
    "    dnn_feature_columns.append(\n",
    "        tf.feature_column.embedding_column(\n",
    "            tf.feature_column.categorical_column_with_identity(feat, 1000),\n",
    "            4\n",
    "        )\n",
    "    )\n",
    "    linear_feature_columns.append(tf.feature_column.categorical_column_with_identity(feat, 1000))"
   ]
  },
  {
   "cell_type": "code",
   "execution_count": null,
   "id": "6f2dc5ef",
   "metadata": {},
   "outputs": [],
   "source": [
    "for feat in dense_features:\n",
    "    dnn_feature_columns.append(tf.feature_column.numeric_column(feat))\n",
    "    linear_feature_columns.append(tf.feature_column.numeric_column(feat))"
   ]
  },
  {
   "cell_type": "code",
   "execution_count": null,
   "id": "a4730222",
   "metadata": {},
   "outputs": [],
   "source": [
    "# 2.generate input data for model\n",
    "feature_description = {\n",
    "    k: FixedLenFeature(dtype=tf.int64, shape=1)\n",
    "    for k in sparse_features\n",
    "}\n",
    "\n",
    "feature_description.update({\n",
    "    k: FixedLenFeature(dtype=tf.float32, shape=1)\n",
    "    for k in dense_features\n",
    "})\n",
    "\n",
    "feature_description['label'] = FixedLenFeature(dtype=tf.float32, shape=1)"
   ]
  },
  {
   "cell_type": "code",
   "execution_count": null,
   "id": "50562420",
   "metadata": {},
   "outputs": [],
   "source": [
    "train_model_input = input_fn_tfrecord(\n",
    "    os.path.join(DIR_DATA, 'criteo_sample.tr.tfrecords'),\n",
    "    feature_description,\n",
    "    'label',\n",
    "    batch_size=256,\n",
    "    num_epochs=1,\n",
    "    shuffle_factor=10\n",
    ")"
   ]
  },
  {
   "cell_type": "code",
   "execution_count": null,
   "id": "e2315315",
   "metadata": {},
   "outputs": [],
   "source": [
    "test_model_input = input_fn_tfrecord(\n",
    "    os.path.join(DIR_DATA, 'criteo_sample.te.tfrecords'),\n",
    "    feature_description,\n",
    "    'label',\n",
    "    batch_size=2 ** 14,\n",
    "    num_epochs=1,\n",
    "    shuffle_factor=0\n",
    ")"
   ]
  },
  {
   "cell_type": "code",
   "execution_count": null,
   "id": "0e84324d",
   "metadata": {},
   "outputs": [],
   "source": [
    "# 3.Define Model,train, predict and evaluate\n",
    "model = DeepFMEstimator(\n",
    "    linear_feature_columns,\n",
    "    dnn_feature_columns,\n",
    "    task='binary',\n",
    "    config=tf.estimator.RunConfig(tf_random_seed=2021)\n",
    ")"
   ]
  },
  {
   "cell_type": "code",
   "execution_count": null,
   "id": "44b1b820",
   "metadata": {},
   "outputs": [],
   "source": [
    "history = model.train(train_model_input)"
   ]
  },
  {
   "cell_type": "code",
   "execution_count": null,
   "id": "b1e82c1a",
   "metadata": {},
   "outputs": [],
   "source": [
    "eval_result = model.evaluate(test_model_input)"
   ]
  },
  {
   "cell_type": "code",
   "execution_count": null,
   "id": "827e471e",
   "metadata": {},
   "outputs": [],
   "source": [
    "print(eval_result)"
   ]
  },
  {
   "cell_type": "code",
   "execution_count": null,
   "id": "af72e573",
   "metadata": {},
   "outputs": [],
   "source": []
  }
 ],
 "metadata": {
  "kernelspec": {
   "display_name": "Python 3 (ipykernel)",
   "language": "python",
   "name": "python3"
  },
  "language_info": {
   "codemirror_mode": {
    "name": "ipython",
    "version": 3
   },
   "file_extension": ".py",
   "mimetype": "text/x-python",
   "name": "python",
   "nbconvert_exporter": "python",
   "pygments_lexer": "ipython3",
   "version": "3.8.2"
  }
 },
 "nbformat": 4,
 "nbformat_minor": 5
}
