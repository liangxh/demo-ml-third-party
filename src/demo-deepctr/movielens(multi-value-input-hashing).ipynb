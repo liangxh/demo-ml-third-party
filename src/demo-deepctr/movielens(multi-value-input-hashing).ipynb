{
 "cells": [
  {
   "cell_type": "markdown",
   "id": "cda5dc71",
   "metadata": {},
   "source": [
    "https://deepctr-doc.readthedocs.io/en/latest/Examples.html#regression-movielens"
   ]
  },
  {
   "cell_type": "code",
   "execution_count": null,
   "id": "ac34663f",
   "metadata": {},
   "outputs": [],
   "source": [
    "import os\n",
    "\n",
    "DIR_DATA = os.path.join(os.environ[\"HOME\"], \"workspace/third_party/shenweichen/DeepCTR/examples\")"
   ]
  },
  {
   "cell_type": "code",
   "execution_count": null,
   "id": "a812dc4f",
   "metadata": {},
   "outputs": [],
   "source": [
    "import numpy as np\n",
    "import pandas as pd\n",
    "from tensorflow.python.keras.preprocessing.sequence import pad_sequences\n",
    "\n",
    "from deepctr.feature_column import SparseFeat, VarLenSparseFeat, get_feature_names\n",
    "from deepctr.models import DeepFM"
   ]
  },
  {
   "cell_type": "code",
   "execution_count": null,
   "id": "b76b2a7a",
   "metadata": {},
   "outputs": [],
   "source": [
    "def split(x):\n",
    "    key_ans = x.split('|')\n",
    "    for key in key_ans:\n",
    "        if key not in key2index:\n",
    "            # Notice : input value 0 is a special \"padding\",so we do not use 0 to encode valid feature for sequence input\n",
    "            key2index[key] = len(key2index) + 1\n",
    "    return list(map(lambda x: key2index[x], key_ans))\n"
   ]
  },
  {
   "cell_type": "code",
   "execution_count": null,
   "id": "eb4d494f",
   "metadata": {},
   "outputs": [],
   "source": [
    "data = pd.read_csv(os.path.join(DIR_DATA, \"movielens_sample.txt\"))\n",
    "\n",
    "sparse_features = [\"movie_id\", \"user_id\", \"gender\", \"age\", \"occupation\", \"zip\"]\n",
    "target = ['rating']"
   ]
  },
  {
   "cell_type": "code",
   "execution_count": null,
   "id": "1dd3d9ca",
   "metadata": {},
   "outputs": [],
   "source": [
    "data[sparse_features] = data[sparse_features].astype(str)\n",
    "target = ['rating']"
   ]
  },
  {
   "cell_type": "code",
   "execution_count": null,
   "id": "0ec10bad",
   "metadata": {},
   "outputs": [],
   "source": [
    "# 1.Use hashing encoding on the fly for sparse features,and process sequence features\n",
    "\n",
    "genres_list = list(map(lambda x: x.split('|'), data['genres'].values))\n",
    "genres_length = np.array(list(map(len, genres_list)))\n",
    "max_len = max(genres_length)"
   ]
  },
  {
   "cell_type": "code",
   "execution_count": null,
   "id": "2699524c",
   "metadata": {},
   "outputs": [],
   "source": [
    "# Notice : padding=`post`\n",
    "genres_list = pad_sequences(genres_list, maxlen=max_len, padding='post', dtype=object, value=0).astype(str)"
   ]
  },
  {
   "cell_type": "code",
   "execution_count": null,
   "id": "5c7b802b",
   "metadata": {},
   "outputs": [],
   "source": [
    "# 2.set hashing space for each sparse field and generate feature config for sequence feature\n",
    "fixlen_feature_columns = [\n",
    "    SparseFeat(feat, data[feat].nunique() * 5, embedding_dim=4, use_hash=True, dtype='string')\n",
    "    for feat in sparse_features\n",
    "]"
   ]
  },
  {
   "cell_type": "code",
   "execution_count": null,
   "id": "1a5d44cd",
   "metadata": {},
   "outputs": [],
   "source": [
    "varlen_feature_columns = [\n",
    "    VarLenSparseFeat(\n",
    "        SparseFeat('genres', vocabulary_size=100, embedding_dim=4, use_hash=True, dtype=\"string\"),\n",
    "        maxlen=max_len, combiner='mean',\n",
    "    )\n",
    "]  # Notice : value 0 is for padding for sequence input feature"
   ]
  },
  {
   "cell_type": "code",
   "execution_count": null,
   "id": "a13164c4",
   "metadata": {},
   "outputs": [],
   "source": [
    "linear_feature_columns = fixlen_feature_columns + varlen_feature_columns\n",
    "dnn_feature_columns = fixlen_feature_columns + varlen_feature_columns"
   ]
  },
  {
   "cell_type": "code",
   "execution_count": null,
   "id": "957218dc",
   "metadata": {},
   "outputs": [],
   "source": [
    "feature_names = get_feature_names(linear_feature_columns + dnn_feature_columns)"
   ]
  },
  {
   "cell_type": "code",
   "execution_count": null,
   "id": "09e0d8e1",
   "metadata": {},
   "outputs": [],
   "source": [
    "# 3.generate input data for model\n",
    "model_input = {name: data[name] for name in feature_names}\n",
    "model_input['genres'] = genres_list"
   ]
  },
  {
   "cell_type": "code",
   "execution_count": null,
   "id": "1cac2b4c",
   "metadata": {},
   "outputs": [],
   "source": [
    "# 4.Define Model,compile and train\n",
    "model = DeepFM(linear_feature_columns, dnn_feature_columns, task='regression')"
   ]
  },
  {
   "cell_type": "code",
   "execution_count": null,
   "id": "dc6551b8",
   "metadata": {},
   "outputs": [],
   "source": [
    "model.compile(\"adam\", \"mse\", metrics=['mse'], )"
   ]
  },
  {
   "cell_type": "code",
   "execution_count": null,
   "id": "ce1cc980",
   "metadata": {},
   "outputs": [],
   "source": [
    "history = model.fit(\n",
    "    model_input, data[target].values,\n",
    "    batch_size=256,\n",
    "    epochs=10,\n",
    "    verbose=2,\n",
    "    validation_split=0.2,\n",
    ")"
   ]
  },
  {
   "cell_type": "code",
   "execution_count": null,
   "id": "b8b0420b",
   "metadata": {},
   "outputs": [],
   "source": [
    "history_df = pd.DataFrame(history.history)"
   ]
  },
  {
   "cell_type": "code",
   "execution_count": null,
   "id": "8292072e",
   "metadata": {},
   "outputs": [],
   "source": [
    "history_df.loc[:, ['mse', 'val_mse']].plot(title=\"MSE\")"
   ]
  },
  {
   "cell_type": "code",
   "execution_count": null,
   "id": "ab0f97fb",
   "metadata": {},
   "outputs": [],
   "source": []
  }
 ],
 "metadata": {
  "kernelspec": {
   "display_name": "Python 3 (ipykernel)",
   "language": "python",
   "name": "python3"
  },
  "language_info": {
   "codemirror_mode": {
    "name": "ipython",
    "version": 3
   },
   "file_extension": ".py",
   "mimetype": "text/x-python",
   "name": "python",
   "nbconvert_exporter": "python",
   "pygments_lexer": "ipython3",
   "version": "3.8.2"
  },
  "pycharm": {
   "stem_cell": {
    "cell_type": "raw",
    "source": [],
    "metadata": {
     "collapsed": false
    }
   }
  }
 },
 "nbformat": 4,
 "nbformat_minor": 5
}