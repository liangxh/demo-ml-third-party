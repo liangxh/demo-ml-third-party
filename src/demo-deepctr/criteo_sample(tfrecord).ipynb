{
 "cells": [
  {
   "cell_type": "markdown",
   "id": "5e6d8581",
   "metadata": {},
   "source": [
    "https://deepctr-doc.readthedocs.io/en/latest/Quick-Start.html"
   ]
  },
  {
   "cell_type": "code",
   "execution_count": null,
   "id": "a3a87233",
   "metadata": {},
   "outputs": [],
   "source": [
    "import os\n",
    "\n",
    "DIR_DATA = os.path.join(os.environ[\"HOME\"], \"workspace/third_party/shenweichen/DeepCTR/examples\")"
   ]
  },
  {
   "cell_type": "code",
   "execution_count": null,
   "id": "00406661",
   "metadata": {},
   "outputs": [],
   "source": [
    "import pandas as pd\n",
    "import tensorflow as tf\n",
    "\n",
    "from tensorflow.python.ops.parsing_ops import  FixedLenFeature\n",
    "from deepctr.estimator.inputs import input_fn_tfrecord\n",
    "from deepctr.estimator.models import DeepFMEstimator"
   ]
  },
  {
   "cell_type": "code",
   "execution_count": null,
   "id": "451dcf20",
   "metadata": {},
   "outputs": [],
   "source": [
    "sparse_features = ['C' + str(i) for i in range(1, 27)]\n",
    "dense_features = ['I' + str(i) for i in range(1, 14)]"
   ]
  },
  {
   "cell_type": "code",
   "execution_count": null,
   "id": "d84aaaf1",
   "metadata": {},
   "outputs": [],
   "source": [
    "dnn_feature_columns = []\n",
    "linear_feature_columns = []"
   ]
  },
  {
   "cell_type": "code",
   "execution_count": null,
   "id": "fd927a81",
   "metadata": {},
   "outputs": [],
   "source": [
    "for i, feat in enumerate(sparse_features):\n",
    "    dnn_feature_columns.append(\n",
    "        tf.feature_column.embedding_column(\n",
    "            categorical_column = tf.feature_column.categorical_column_with_identity(key = feat, num_buckets = 1000),\n",
    "            dimension = 4\n",
    "        )\n",
    "      )\n",
    "    linear_feature_columns.append(\n",
    "        tf.feature_column.categorical_column_with_identity(key = feat, num_buckets = 1000)\n",
    "    )"
   ]
  },
  {
   "cell_type": "code",
   "execution_count": null,
   "id": "58107cab",
   "metadata": {},
   "outputs": [],
   "source": [
    "for feat in dense_features:\n",
    "    dnn_feature_columns.append(tf.feature_column.numeric_column(feat))\n",
    "    linear_feature_columns.append(tf.feature_column.numeric_column(feat))"
   ]
  },
  {
   "cell_type": "code",
   "execution_count": null,
   "id": "9a23d623",
   "metadata": {},
   "outputs": [],
   "source": [
    "feature_description = {\n",
    "    k: FixedLenFeature(dtype=tf.int64, shape=1)\n",
    "    for k in sparse_features\n",
    "}\n",
    "\n",
    "feature_description.update({\n",
    "    k: FixedLenFeature(dtype=tf.float32, shape=1)\n",
    "    for k in dense_features\n",
    "})\n",
    "\n",
    "feature_description['label'] = FixedLenFeature(dtype=tf.float32, shape=1)"
   ]
  },
  {
   "cell_type": "code",
   "execution_count": null,
   "id": "652b7118",
   "metadata": {},
   "outputs": [],
   "source": [
    "help(input_fn_tfrecord)"
   ]
  },
  {
   "cell_type": "code",
   "execution_count": null,
   "id": "0255349a",
   "metadata": {},
   "outputs": [],
   "source": [
    "train_model_input = input_fn_tfrecord(\n",
    "    filenames=os.path.join(DIR_DATA, 'criteo_sample.tr.tfrecords'),\n",
    "    feature_description=feature_description, \n",
    "    label='label',\n",
    "    batch_size=256,\n",
    "    num_epochs=1,\n",
    "    shuffle_factor=10\n",
    ")"
   ]
  },
  {
   "cell_type": "code",
   "execution_count": null,
   "id": "b451a30a",
   "metadata": {},
   "outputs": [],
   "source": [
    "test_model_input = input_fn_tfrecord(\n",
    "    filenames=os.path.join(DIR_DATA, 'criteo_sample.te.tfrecords'),\n",
    "    feature_description=feature_description,\n",
    "    label='label',\n",
    "    batch_size=2 ** 14,\n",
    "    num_epochs=1,\n",
    "    shuffle_factor=0\n",
    ")"
   ]
  },
  {
   "cell_type": "code",
   "execution_count": null,
   "id": "60012aff",
   "metadata": {},
   "outputs": [],
   "source": [
    "model = DeepFMEstimator(\n",
    "    linear_feature_columns,\n",
    "    dnn_feature_columns,\n",
    "    task='binary'\n",
    ")"
   ]
  },
  {
   "cell_type": "code",
   "execution_count": null,
   "id": "5500d59a",
   "metadata": {},
   "outputs": [],
   "source": [
    "type(model)"
   ]
  },
  {
   "cell_type": "code",
   "execution_count": null,
   "id": "1b175274",
   "metadata": {},
   "outputs": [],
   "source": [
    "estimator = model.train(train_model_input)"
   ]
  },
  {
   "cell_type": "code",
   "execution_count": null,
   "id": "2624a851",
   "metadata": {},
   "outputs": [],
   "source": [
    "eval_result = model.evaluate(test_model_input)"
   ]
  },
  {
   "cell_type": "code",
   "execution_count": null,
   "id": "b042adc6",
   "metadata": {},
   "outputs": [],
   "source": [
    "print(eval_result)"
   ]
  },
  {
   "cell_type": "code",
   "execution_count": null,
   "id": "a578c59a",
   "metadata": {},
   "outputs": [],
   "source": []
  }
 ],
 "metadata": {
  "kernelspec": {
   "display_name": "Python 3 (ipykernel)",
   "language": "python",
   "name": "python3"
  },
  "language_info": {
   "codemirror_mode": {
    "name": "ipython",
    "version": 3
   },
   "file_extension": ".py",
   "mimetype": "text/x-python",
   "name": "python",
   "nbconvert_exporter": "python",
   "pygments_lexer": "ipython3",
   "version": "3.8.2"
  }
 },
 "nbformat": 4,
 "nbformat_minor": 5
}
