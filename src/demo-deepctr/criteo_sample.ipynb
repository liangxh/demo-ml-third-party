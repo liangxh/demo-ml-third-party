{
 "cells": [
  {
   "cell_type": "markdown",
   "id": "a78f9ad0",
   "metadata": {},
   "source": [
    "https://deepctr-doc.readthedocs.io/en/latest/Quick-Start.html"
   ]
  },
  {
   "cell_type": "code",
   "execution_count": null,
   "id": "a52cfe4e",
   "metadata": {},
   "outputs": [],
   "source": [
    "import os\n",
    "\n",
    "DIR_DATA = os.path.join(os.environ[\"HOME\"], \"workspace/third_party/shenweichen/DeepCTR/examples\")"
   ]
  },
  {
   "cell_type": "code",
   "execution_count": null,
   "id": "b130514b",
   "metadata": {},
   "outputs": [],
   "source": [
    "import pandas as pd\n",
    "from sklearn.metrics import log_loss, roc_auc_score, accuracy_score\n",
    "from sklearn.preprocessing import LabelEncoder, MinMaxScaler\n",
    "from sklearn.model_selection import train_test_split\n",
    "from deepctr.models import DeepFM\n",
    "from deepctr.feature_column import SparseFeat, DenseFeat,get_feature_names"
   ]
  },
  {
   "cell_type": "code",
   "execution_count": null,
   "id": "c45a49ae",
   "metadata": {},
   "outputs": [],
   "source": [
    "data = pd.read_csv(os.path.join(DIR_DATA, './criteo_sample.txt'))"
   ]
  },
  {
   "cell_type": "code",
   "execution_count": null,
   "id": "816b0b12",
   "metadata": {},
   "outputs": [],
   "source": [
    "sparse_features = ['C' + str(i) for i in range(1, 27)]\n",
    "dense_features = ['I'+str(i) for i in range(1, 14)]\n",
    "\n",
    "data[sparse_features] = data[sparse_features].fillna('-1', )\n",
    "data[dense_features] = data[dense_features].fillna(0,)\n",
    "target = ['label']"
   ]
  },
  {
   "cell_type": "code",
   "execution_count": null,
   "id": "ca7e726c",
   "metadata": {},
   "outputs": [],
   "source": [
    "data.head()"
   ]
  },
  {
   "cell_type": "code",
   "execution_count": null,
   "id": "93bbaa0c",
   "metadata": {},
   "outputs": [],
   "source": [
    "data['label'].describe()"
   ]
  },
  {
   "cell_type": "code",
   "execution_count": null,
   "id": "ca31059a",
   "metadata": {},
   "outputs": [],
   "source": [
    "for feat in sparse_features:\n",
    "    encoder = LabelEncoder()\n",
    "    # 可选 HashEncoder()\n",
    "    data[feat] = encoder.fit_transform(data[feat])"
   ]
  },
  {
   "cell_type": "code",
   "execution_count": null,
   "id": "fe2ca090",
   "metadata": {},
   "outputs": [],
   "source": [
    "mms = MinMaxScaler(feature_range=(0,1))\n",
    "data[dense_features] = mms.fit_transform(data[dense_features])"
   ]
  },
  {
   "cell_type": "code",
   "execution_count": null,
   "id": "c7847b44",
   "metadata": {},
   "outputs": [],
   "source": [
    "# 连续特征\n",
    "dense_feat_columns = [\n",
    "    DenseFeat(name=feat, dimension=1)  # dtype='float32'\n",
    "    for feat in dense_features\n",
    "]\n",
    "\n",
    "# 稀疏特征\n",
    "sparse_feat_columns = [\n",
    "    SparseFeat(name=feat, vocabulary_size=data[feat].max() + 1, embedding_dim=4)\n",
    "    for i, feat in enumerate(sparse_features)\n",
    "]\n",
    "\n",
    "# 所有特征\n",
    "fixlen_feature_columns = dense_feat_columns + sparse_feat_columns"
   ]
  },
  {
   "cell_type": "code",
   "execution_count": null,
   "id": "fee1d631",
   "metadata": {},
   "outputs": [],
   "source": [
    "dnn_feature_columns = fixlen_feature_columns\n",
    "linear_feature_columns = dense_feat_columns"
   ]
  },
  {
   "cell_type": "code",
   "execution_count": null,
   "id": "97bf3480",
   "metadata": {},
   "outputs": [],
   "source": [
    "# 所有特征名\n",
    "feature_names = get_feature_names(linear_feature_columns + dnn_feature_columns)"
   ]
  },
  {
   "cell_type": "code",
   "execution_count": null,
   "id": "6bbe5046",
   "metadata": {},
   "outputs": [],
   "source": [
    "# 拆成 train / test\n",
    "train, test = train_test_split(data, test_size=0.2)"
   ]
  },
  {
   "cell_type": "code",
   "execution_count": null,
   "id": "d3740824",
   "metadata": {},
   "outputs": [],
   "source": [
    "# {特征名： 特征值}\n",
    "train_model_input = {name: train[name].values for name in feature_names}\n",
    "test_model_input = {name: test[name].values for name in feature_names}"
   ]
  },
  {
   "cell_type": "code",
   "execution_count": null,
   "id": "f1b76b34",
   "metadata": {},
   "outputs": [],
   "source": [
    "model = DeepFM(\n",
    "    linear_feature_columns = linear_feature_columns,  # Linear 部分的特征\n",
    "    dnn_feature_columns = dnn_feature_columns,        # DNN 特征 \n",
    "    task='binary'    # \"binary\" for binary logloss, \"regression\" for regression loss\n",
    ")"
   ]
  },
  {
   "cell_type": "code",
   "execution_count": null,
   "id": "e69ae326",
   "metadata": {},
   "outputs": [],
   "source": [
    "type(model)"
   ]
  },
  {
   "cell_type": "code",
   "execution_count": null,
   "id": "b3d32296",
   "metadata": {},
   "outputs": [],
   "source": [
    "type(train[target].values)"
   ]
  },
  {
   "cell_type": "code",
   "execution_count": null,
   "id": "e44fa1a1",
   "metadata": {},
   "outputs": [],
   "source": [
    "model.compile(\n",
    "    optimizer=\"adam\",\n",
    "    loss=\"binary_crossentropy\",\n",
    "    metrics=['binary_crossentropy', 'binary_accuracy']\n",
    ")"
   ]
  },
  {
   "cell_type": "code",
   "execution_count": null,
   "id": "912b1fa1",
   "metadata": {},
   "outputs": [],
   "source": [
    "history = model.fit(\n",
    "    x=train_model_input,\n",
    "    y=train[target].values,  # numpy.ndarray\n",
    "    batch_size=256,\n",
    "    epochs=80,\n",
    "    verbose=2,\n",
    "    validation_split=0.2,    # validation 不用于训练，只记录 loss 和 metrics\n",
    ")"
   ]
  },
  {
   "cell_type": "code",
   "execution_count": null,
   "id": "cb8023c7",
   "metadata": {},
   "outputs": [],
   "source": [
    "history_df = pd.DataFrame(history.history)"
   ]
  },
  {
   "cell_type": "code",
   "execution_count": null,
   "id": "e7043bac",
   "metadata": {},
   "outputs": [],
   "source": [
    "history_df.loc[:, ['loss', 'val_loss']].plot(title=\"Cross-entropy\")"
   ]
  },
  {
   "cell_type": "code",
   "execution_count": null,
   "id": "3f35b9af",
   "metadata": {},
   "outputs": [],
   "source": [
    "history_df.loc[:, ['binary_accuracy', 'val_binary_accuracy']].plot(title=\"Binary Accuracy\")"
   ]
  },
  {
   "cell_type": "code",
   "execution_count": null,
   "id": "5574d50b",
   "metadata": {},
   "outputs": [],
   "source": [
    "pred_ans = model.predict(test_model_input, batch_size=256)"
   ]
  },
  {
   "cell_type": "code",
   "execution_count": null,
   "id": "901e7696",
   "metadata": {},
   "outputs": [],
   "source": [
    "print(\"test LogLoss\", round(log_loss(test[target].values, pred_ans), 4))"
   ]
  },
  {
   "cell_type": "code",
   "execution_count": null,
   "id": "b9035c6f",
   "metadata": {},
   "outputs": [],
   "source": [
    "print(\"test AUC\", round(roc_auc_score(test[target].values, pred_ans), 4))"
   ]
  },
  {
   "cell_type": "code",
   "execution_count": null,
   "id": "06e065b3",
   "metadata": {},
   "outputs": [],
   "source": [
    "pred = (pred_ans > 0.5).astype(int)"
   ]
  },
  {
   "cell_type": "code",
   "execution_count": null,
   "id": "61165704",
   "metadata": {},
   "outputs": [],
   "source": [
    "print(\"test Accuracy\", round(accuracy_score(test[target].values, pred), 4))"
   ]
  },
  {
   "cell_type": "code",
   "execution_count": null,
   "id": "c0783b19",
   "metadata": {},
   "outputs": [],
   "source": [
    "history_df[['binary_accuracy', 'val_binary_accuracy']]"
   ]
  },
  {
   "cell_type": "code",
   "execution_count": null,
   "id": "4ad0c217",
   "metadata": {},
   "outputs": [],
   "source": []
  }
 ],
 "metadata": {
  "kernelspec": {
   "display_name": "Python 3 (ipykernel)",
   "language": "python",
   "name": "python3"
  },
  "language_info": {
   "codemirror_mode": {
    "name": "ipython",
    "version": 3
   },
   "file_extension": ".py",
   "mimetype": "text/x-python",
   "name": "python",
   "nbconvert_exporter": "python",
   "pygments_lexer": "ipython3",
   "version": "3.8.2"
  }
 },
 "nbformat": 4,
 "nbformat_minor": 5
}
