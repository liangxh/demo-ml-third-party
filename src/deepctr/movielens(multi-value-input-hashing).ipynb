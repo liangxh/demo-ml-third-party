{
 "cells": [
  {
   "cell_type": "markdown",
   "id": "cda5dc71",
   "metadata": {},
   "source": [
    "https://deepctr-doc.readthedocs.io/en/latest/Examples.html#regression-movielens"
   ]
  },
  {
   "cell_type": "code",
   "execution_count": 1,
   "id": "ac34663f",
   "metadata": {},
   "outputs": [],
   "source": [
    "import os\n",
    "\n",
    "DIR_DATA = os.path.join(os.environ[\"HOME\"], \"workspace/third_party/shenweichen/DeepCTR/examples\")"
   ]
  },
  {
   "cell_type": "code",
   "execution_count": 2,
   "id": "a812dc4f",
   "metadata": {},
   "outputs": [],
   "source": [
    "import numpy as np\n",
    "import pandas as pd\n",
    "from tensorflow.python.keras.preprocessing.sequence import pad_sequences\n",
    "\n",
    "from deepctr.feature_column import SparseFeat, VarLenSparseFeat, get_feature_names\n",
    "from deepctr.models import DeepFM"
   ]
  },
  {
   "cell_type": "code",
   "execution_count": 3,
   "id": "b76b2a7a",
   "metadata": {},
   "outputs": [],
   "source": [
    "def split(x):\n",
    "    key_ans = x.split('|')\n",
    "    for key in key_ans:\n",
    "        if key not in key2index:\n",
    "            # Notice : input value 0 is a special \"padding\",so we do not use 0 to encode valid feature for sequence input\n",
    "            key2index[key] = len(key2index) + 1\n",
    "    return list(map(lambda x: key2index[x], key_ans))\n"
   ]
  },
  {
   "cell_type": "code",
   "execution_count": 4,
   "id": "eb4d494f",
   "metadata": {},
   "outputs": [],
   "source": [
    "data = pd.read_csv(os.path.join(DIR_DATA, \"movielens_sample.txt\"))\n",
    "\n",
    "sparse_features = [\"movie_id\", \"user_id\", \"gender\", \"age\", \"occupation\", \"zip\"]\n",
    "target = ['rating']"
   ]
  },
  {
   "cell_type": "code",
   "execution_count": 5,
   "id": "80a45a85",
   "metadata": {},
   "outputs": [],
   "source": [
    "data[sparse_features] = data[sparse_features].astype(str)\n",
    "target = ['rating']"
   ]
  },
  {
   "cell_type": "code",
   "execution_count": 6,
   "id": "1c1089e5",
   "metadata": {},
   "outputs": [],
   "source": [
    "# 1.Use hashing encoding on the fly for sparse features,and process sequence features\n",
    "\n",
    "genres_list = list(map(lambda x: x.split('|'), data['genres'].values))\n",
    "genres_length = np.array(list(map(len, genres_list)))\n",
    "max_len = max(genres_length)"
   ]
  },
  {
   "cell_type": "code",
   "execution_count": 7,
   "id": "71ca44ae",
   "metadata": {},
   "outputs": [],
   "source": [
    "# Notice : padding=`post`\n",
    "genres_list = pad_sequences(genres_list, maxlen=max_len, padding='post', dtype=object, value=0).astype(str)"
   ]
  },
  {
   "cell_type": "code",
   "execution_count": 8,
   "id": "73b729d5",
   "metadata": {},
   "outputs": [],
   "source": [
    "# 2.set hashing space for each sparse field and generate feature config for sequence feature\n",
    "fixlen_feature_columns = [\n",
    "    SparseFeat(feat, data[feat].nunique() * 5, embedding_dim=4, use_hash=True, dtype='string')\n",
    "    for feat in sparse_features\n",
    "]"
   ]
  },
  {
   "cell_type": "code",
   "execution_count": 9,
   "id": "07f392fb",
   "metadata": {},
   "outputs": [],
   "source": [
    "varlen_feature_columns = [\n",
    "    VarLenSparseFeat(\n",
    "        SparseFeat('genres', vocabulary_size=100, embedding_dim=4, use_hash=True, dtype=\"string\"),\n",
    "        maxlen=max_len, combiner='mean',\n",
    "    )\n",
    "]  # Notice : value 0 is for padding for sequence input feature"
   ]
  },
  {
   "cell_type": "code",
   "execution_count": 10,
   "id": "1a493ed1",
   "metadata": {},
   "outputs": [],
   "source": [
    "linear_feature_columns = fixlen_feature_columns + varlen_feature_columns\n",
    "dnn_feature_columns = fixlen_feature_columns + varlen_feature_columns"
   ]
  },
  {
   "cell_type": "code",
   "execution_count": 11,
   "id": "4b218de6",
   "metadata": {},
   "outputs": [],
   "source": [
    "feature_names = get_feature_names(linear_feature_columns + dnn_feature_columns)"
   ]
  },
  {
   "cell_type": "code",
   "execution_count": 12,
   "id": "570caf25",
   "metadata": {},
   "outputs": [],
   "source": [
    "# 3.generate input data for model\n",
    "model_input = {name: data[name] for name in feature_names}\n",
    "model_input['genres'] = genres_list"
   ]
  },
  {
   "cell_type": "code",
   "execution_count": 13,
   "id": "19a7d139",
   "metadata": {},
   "outputs": [
    {
     "name": "stderr",
     "output_type": "stream",
     "text": [
      "2022-09-24 21:05:41.503649: I tensorflow/core/platform/cpu_feature_guard.cc:151] This TensorFlow binary is optimized with oneAPI Deep Neural Network Library (oneDNN) to use the following CPU instructions in performance-critical operations:  AVX2 FMA\n",
      "To enable them in other operations, rebuild TensorFlow with the appropriate compiler flags.\n"
     ]
    }
   ],
   "source": [
    "# 4.Define Model,compile and train\n",
    "model = DeepFM(linear_feature_columns, dnn_feature_columns, task='regression')"
   ]
  },
  {
   "cell_type": "code",
   "execution_count": 14,
   "id": "8f4312f3",
   "metadata": {},
   "outputs": [],
   "source": [
    "model.compile(\"adam\", \"mse\", metrics=['mse'], )"
   ]
  },
  {
   "cell_type": "code",
   "execution_count": 15,
   "id": "47ebe294",
   "metadata": {},
   "outputs": [
    {
     "name": "stdout",
     "output_type": "stream",
     "text": [
      "Epoch 1/10\n",
      "1/1 - 2s - loss: 14.2998 - mse: 14.2998 - val_loss: 13.3755 - val_mse: 13.3755\n",
      "Epoch 2/10\n",
      "1/1 - 0s - loss: 14.1553 - mse: 14.1553 - val_loss: 13.2324 - val_mse: 13.2324\n",
      "Epoch 3/10\n",
      "1/1 - 0s - loss: 13.9901 - mse: 13.9901 - val_loss: 13.0753 - val_mse: 13.0753\n",
      "Epoch 4/10\n",
      "1/1 - 0s - loss: 13.8095 - mse: 13.8095 - val_loss: 12.9031 - val_mse: 12.9031\n",
      "Epoch 5/10\n",
      "1/1 - 0s - loss: 13.6126 - mse: 13.6126 - val_loss: 12.7140 - val_mse: 12.7140\n",
      "Epoch 6/10\n",
      "1/1 - 0s - loss: 13.3969 - mse: 13.3969 - val_loss: 12.5055 - val_mse: 12.5055\n",
      "Epoch 7/10\n",
      "1/1 - 0s - loss: 13.1596 - mse: 13.1596 - val_loss: 12.2746 - val_mse: 12.2746\n",
      "Epoch 8/10\n",
      "1/1 - 0s - loss: 12.8978 - mse: 12.8978 - val_loss: 12.0183 - val_mse: 12.0183\n",
      "Epoch 9/10\n",
      "1/1 - 0s - loss: 12.6082 - mse: 12.6082 - val_loss: 11.7345 - val_mse: 11.7345\n",
      "Epoch 10/10\n",
      "1/1 - 0s - loss: 12.2878 - mse: 12.2878 - val_loss: 11.4211 - val_mse: 11.4211\n"
     ]
    }
   ],
   "source": [
    "history = model.fit(\n",
    "    model_input, data[target].values,\n",
    "    batch_size=256,\n",
    "    epochs=10,\n",
    "    verbose=2,\n",
    "    validation_split=0.2,\n",
    ")"
   ]
  },
  {
   "cell_type": "code",
   "execution_count": null,
   "id": "9223467a",
   "metadata": {},
   "outputs": [],
   "source": []
  },
  {
   "cell_type": "code",
   "execution_count": null,
   "id": "17b254d9",
   "metadata": {},
   "outputs": [],
   "source": []
  },
  {
   "cell_type": "code",
   "execution_count": null,
   "id": "c2f66446",
   "metadata": {},
   "outputs": [],
   "source": []
  }
 ],
 "metadata": {
  "kernelspec": {
   "display_name": "Python 3 (ipykernel)",
   "language": "python",
   "name": "python3"
  },
  "language_info": {
   "codemirror_mode": {
    "name": "ipython",
    "version": 3
   },
   "file_extension": ".py",
   "mimetype": "text/x-python",
   "name": "python",
   "nbconvert_exporter": "python",
   "pygments_lexer": "ipython3",
   "version": "3.8.2"
  }
 },
 "nbformat": 4,
 "nbformat_minor": 5
}
