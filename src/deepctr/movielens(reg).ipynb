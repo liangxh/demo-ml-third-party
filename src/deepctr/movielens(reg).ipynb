{
 "cells": [
  {
   "cell_type": "markdown",
   "id": "87b4958d",
   "metadata": {},
   "source": [
    "https://deepctr-doc.readthedocs.io/en/latest/Examples.html#regression-movielens"
   ]
  },
  {
   "cell_type": "code",
   "execution_count": 1,
   "id": "882d4bb2",
   "metadata": {},
   "outputs": [],
   "source": [
    "import os\n",
    "\n",
    "DIR_DATA = os.path.join(os.environ[\"HOME\"], \"workspace/third_party/shenweichen/DeepCTR/examples\")"
   ]
  },
  {
   "cell_type": "code",
   "execution_count": 2,
   "id": "3917abe5",
   "metadata": {},
   "outputs": [],
   "source": [
    "import pandas as pd\n",
    "from sklearn.metrics import mean_squared_error\n",
    "from sklearn.model_selection import train_test_split\n",
    "from sklearn.preprocessing import LabelEncoder\n",
    "\n",
    "from deepctr.models import DeepFM\n",
    "from deepctr.feature_column import SparseFeat, get_feature_names"
   ]
  },
  {
   "cell_type": "code",
   "execution_count": 3,
   "id": "8e8231c9",
   "metadata": {},
   "outputs": [],
   "source": [
    "data = pd.read_csv(os.path.join(DIR_DATA, \"movielens_sample.txt\"))\n",
    "sparse_features = [\"movie_id\", \"user_id\", \"gender\", \"age\", \"occupation\", \"zip\"]\n",
    "target = ['rating']"
   ]
  },
  {
   "cell_type": "code",
   "execution_count": 4,
   "id": "51d162c9",
   "metadata": {},
   "outputs": [],
   "source": [
    "# 1.Label Encoding for sparse features,and do simple Transformation for dense features\n",
    "for feat in sparse_features:\n",
    "    lbe = LabelEncoder()\n",
    "    data[feat] = lbe.fit_transform(data[feat])"
   ]
  },
  {
   "cell_type": "code",
   "execution_count": 5,
   "id": "30b74379",
   "metadata": {},
   "outputs": [],
   "source": [
    "# 2.count #unique features for each sparse field\n",
    "fixlen_feature_columns = [\n",
    "    SparseFeat(feat, data[feat].max() + 1, embedding_dim=4)\n",
    "    for feat in sparse_features\n",
    "]"
   ]
  },
  {
   "cell_type": "code",
   "execution_count": 6,
   "id": "ba8f9b40",
   "metadata": {},
   "outputs": [],
   "source": [
    "linear_feature_columns = fixlen_feature_columns\n",
    "dnn_feature_columns = fixlen_feature_columns"
   ]
  },
  {
   "cell_type": "code",
   "execution_count": 7,
   "id": "59374602",
   "metadata": {},
   "outputs": [],
   "source": [
    "feature_names = get_feature_names(linear_feature_columns + dnn_feature_columns)"
   ]
  },
  {
   "cell_type": "code",
   "execution_count": 8,
   "id": "6c594059",
   "metadata": {},
   "outputs": [],
   "source": [
    "# 3.generate input data for model\n",
    "train, test = train_test_split(data, test_size=0.2, random_state=2020)\n",
    "\n",
    "train_model_input = {name: train[name].values for name in feature_names}\n",
    "test_model_input = {name: test[name].values for name in feature_names}"
   ]
  },
  {
   "cell_type": "code",
   "execution_count": 38,
   "id": "9d168dd0",
   "metadata": {},
   "outputs": [],
   "source": [
    "# 4.Define Model,train,predict and evaluate\n",
    "model = DeepFM(\n",
    "    linear_feature_columns,\n",
    "    dnn_feature_columns,\n",
    "    task='regression'\n",
    ")"
   ]
  },
  {
   "cell_type": "code",
   "execution_count": 39,
   "id": "d870487d",
   "metadata": {},
   "outputs": [],
   "source": [
    "model.compile(\n",
    "    \"adam\",\n",
    "    loss=\"mse\",\n",
    "    metrics=['mse']\n",
    ")"
   ]
  },
  {
   "cell_type": "code",
   "execution_count": 40,
   "id": "92645054",
   "metadata": {},
   "outputs": [
    {
     "name": "stdout",
     "output_type": "stream",
     "text": [
      "Epoch 1/80\n",
      "1/1 - 2s - loss: 13.4141 - mse: 13.4141 - val_loss: 15.6735 - val_mse: 15.6735\n",
      "Epoch 2/80\n",
      "1/1 - 0s - loss: 13.2663 - mse: 13.2663 - val_loss: 15.5199 - val_mse: 15.5199\n",
      "Epoch 3/80\n",
      "1/1 - 0s - loss: 13.1033 - mse: 13.1033 - val_loss: 15.3506 - val_mse: 15.3506\n",
      "Epoch 4/80\n",
      "1/1 - 0s - loss: 12.9248 - mse: 12.9248 - val_loss: 15.1661 - val_mse: 15.1661\n",
      "Epoch 5/80\n",
      "1/1 - 0s - loss: 12.7306 - mse: 12.7306 - val_loss: 14.9643 - val_mse: 14.9643\n",
      "Epoch 6/80\n",
      "1/1 - 0s - loss: 12.5185 - mse: 12.5185 - val_loss: 14.7417 - val_mse: 14.7417\n",
      "Epoch 7/80\n",
      "1/1 - 0s - loss: 12.2856 - mse: 12.2856 - val_loss: 14.4964 - val_mse: 14.4964\n",
      "Epoch 8/80\n",
      "1/1 - 0s - loss: 12.0306 - mse: 12.0306 - val_loss: 14.2283 - val_mse: 14.2283\n",
      "Epoch 9/80\n",
      "1/1 - 0s - loss: 11.7513 - mse: 11.7513 - val_loss: 13.9339 - val_mse: 13.9339\n",
      "Epoch 10/80\n",
      "1/1 - 0s - loss: 11.4446 - mse: 11.4446 - val_loss: 13.6107 - val_mse: 13.6107\n",
      "Epoch 11/80\n",
      "1/1 - 0s - loss: 11.1078 - mse: 11.1078 - val_loss: 13.2562 - val_mse: 13.2562\n",
      "Epoch 12/80\n",
      "1/1 - 0s - loss: 10.7390 - mse: 10.7390 - val_loss: 12.8690 - val_mse: 12.8690\n",
      "Epoch 13/80\n",
      "1/1 - 0s - loss: 10.3361 - mse: 10.3361 - val_loss: 12.4466 - val_mse: 12.4466\n",
      "Epoch 14/80\n",
      "1/1 - 0s - loss: 9.8962 - mse: 9.8962 - val_loss: 11.9857 - val_mse: 11.9857\n",
      "Epoch 15/80\n",
      "1/1 - 0s - loss: 9.4175 - mse: 9.4175 - val_loss: 11.4845 - val_mse: 11.4845\n",
      "Epoch 16/80\n",
      "1/1 - 0s - loss: 8.8991 - mse: 8.8991 - val_loss: 10.9412 - val_mse: 10.9412\n",
      "Epoch 17/80\n",
      "1/1 - 0s - loss: 8.3398 - mse: 8.3398 - val_loss: 10.3553 - val_mse: 10.3553\n",
      "Epoch 18/80\n",
      "1/1 - 0s - loss: 7.7395 - mse: 7.7395 - val_loss: 9.7266 - val_mse: 9.7266\n",
      "Epoch 19/80\n",
      "1/1 - 0s - loss: 7.1001 - mse: 7.1001 - val_loss: 9.0559 - val_mse: 9.0559\n",
      "Epoch 20/80\n",
      "1/1 - 0s - loss: 6.4253 - mse: 6.4253 - val_loss: 8.3457 - val_mse: 8.3457\n",
      "Epoch 21/80\n",
      "1/1 - 0s - loss: 5.7211 - mse: 5.7211 - val_loss: 7.5999 - val_mse: 7.5999\n",
      "Epoch 22/80\n",
      "1/1 - 0s - loss: 4.9965 - mse: 4.9965 - val_loss: 6.8250 - val_mse: 6.8250\n",
      "Epoch 23/80\n",
      "1/1 - 0s - loss: 4.2643 - mse: 4.2643 - val_loss: 6.0318 - val_mse: 6.0318\n",
      "Epoch 24/80\n",
      "1/1 - 0s - loss: 3.5425 - mse: 3.5425 - val_loss: 5.2295 - val_mse: 5.2295\n",
      "Epoch 25/80\n",
      "1/1 - 0s - loss: 2.8541 - mse: 2.8541 - val_loss: 4.4396 - val_mse: 4.4396\n",
      "Epoch 26/80\n",
      "1/1 - 0s - loss: 2.2292 - mse: 2.2292 - val_loss: 3.6842 - val_mse: 3.6842\n",
      "Epoch 27/80\n",
      "1/1 - 0s - loss: 1.7030 - mse: 1.7030 - val_loss: 2.9911 - val_mse: 2.9911\n",
      "Epoch 28/80\n",
      "1/1 - 0s - loss: 1.3143 - mse: 1.3143 - val_loss: 2.3916 - val_mse: 2.3916\n",
      "Epoch 29/80\n",
      "1/1 - 0s - loss: 1.0994 - mse: 1.0994 - val_loss: 1.9166 - val_mse: 1.9166\n",
      "Epoch 30/80\n",
      "1/1 - 0s - loss: 1.0785 - mse: 1.0785 - val_loss: 1.5856 - val_mse: 1.5856\n",
      "Epoch 31/80\n",
      "1/1 - 0s - loss: 1.2318 - mse: 1.2317 - val_loss: 1.3924 - val_mse: 1.3923\n",
      "Epoch 32/80\n",
      "1/1 - 0s - loss: 1.4804 - mse: 1.4804 - val_loss: 1.3015 - val_mse: 1.3014\n",
      "Epoch 33/80\n",
      "1/1 - 0s - loss: 1.7082 - mse: 1.7082 - val_loss: 1.2689 - val_mse: 1.2688\n",
      "Epoch 34/80\n",
      "1/1 - 0s - loss: 1.8208 - mse: 1.8208 - val_loss: 1.2660 - val_mse: 1.2660\n",
      "Epoch 35/80\n",
      "1/1 - 0s - loss: 1.7858 - mse: 1.7858 - val_loss: 1.2853 - val_mse: 1.2853\n",
      "Epoch 36/80\n",
      "1/1 - 0s - loss: 1.6276 - mse: 1.6276 - val_loss: 1.3327 - val_mse: 1.3327\n",
      "Epoch 37/80\n",
      "1/1 - 0s - loss: 1.3984 - mse: 1.3984 - val_loss: 1.4162 - val_mse: 1.4162\n",
      "Epoch 38/80\n",
      "1/1 - 0s - loss: 1.1529 - mse: 1.1529 - val_loss: 1.5400 - val_mse: 1.5400\n",
      "Epoch 39/80\n",
      "1/1 - 0s - loss: 0.9337 - mse: 0.9337 - val_loss: 1.7013 - val_mse: 1.7013\n",
      "Epoch 40/80\n",
      "1/1 - 0s - loss: 0.7655 - mse: 0.7655 - val_loss: 1.8910 - val_mse: 1.8910\n",
      "Epoch 41/80\n",
      "1/1 - 0s - loss: 0.6559 - mse: 0.6559 - val_loss: 2.0957 - val_mse: 2.0957\n",
      "Epoch 42/80\n",
      "1/1 - 0s - loss: 0.5995 - mse: 0.5995 - val_loss: 2.3005 - val_mse: 2.3004\n",
      "Epoch 43/80\n",
      "1/1 - 0s - loss: 0.5832 - mse: 0.5832 - val_loss: 2.4910 - val_mse: 2.4909\n",
      "Epoch 44/80\n",
      "1/1 - 0s - loss: 0.5910 - mse: 0.5910 - val_loss: 2.6551 - val_mse: 2.6551\n",
      "Epoch 45/80\n",
      "1/1 - 0s - loss: 0.6073 - mse: 0.6073 - val_loss: 2.7842 - val_mse: 2.7842\n",
      "Epoch 46/80\n",
      "1/1 - 0s - loss: 0.6197 - mse: 0.6197 - val_loss: 2.8737 - val_mse: 2.8737\n",
      "Epoch 47/80\n",
      "1/1 - 0s - loss: 0.6197 - mse: 0.6197 - val_loss: 2.9226 - val_mse: 2.9226\n",
      "Epoch 48/80\n",
      "1/1 - 0s - loss: 0.6030 - mse: 0.6030 - val_loss: 2.9330 - val_mse: 2.9329\n",
      "Epoch 49/80\n",
      "1/1 - 0s - loss: 0.5691 - mse: 0.5691 - val_loss: 2.9087 - val_mse: 2.9087\n",
      "Epoch 50/80\n",
      "1/1 - 0s - loss: 0.5201 - mse: 0.5201 - val_loss: 2.8554 - val_mse: 2.8554\n",
      "Epoch 51/80\n",
      "1/1 - 0s - loss: 0.4599 - mse: 0.4599 - val_loss: 2.7794 - val_mse: 2.7794\n",
      "Epoch 52/80\n",
      "1/1 - 0s - loss: 0.3938 - mse: 0.3938 - val_loss: 2.6877 - val_mse: 2.6877\n",
      "Epoch 53/80\n",
      "1/1 - 0s - loss: 0.3274 - mse: 0.3274 - val_loss: 2.5875 - val_mse: 2.5875\n",
      "Epoch 54/80\n",
      "1/1 - 0s - loss: 0.2658 - mse: 0.2658 - val_loss: 2.4865 - val_mse: 2.4865\n",
      "Epoch 55/80\n",
      "1/1 - 0s - loss: 0.2133 - mse: 0.2133 - val_loss: 2.3903 - val_mse: 2.3903\n",
      "Epoch 56/80\n",
      "1/1 - 0s - loss: 0.1731 - mse: 0.1730 - val_loss: 2.3023 - val_mse: 2.3023\n",
      "Epoch 57/80\n",
      "1/1 - 0s - loss: 0.1452 - mse: 0.1451 - val_loss: 2.2289 - val_mse: 2.2288\n",
      "Epoch 58/80\n",
      "1/1 - 0s - loss: 0.1285 - mse: 0.1285 - val_loss: 2.1745 - val_mse: 2.1745\n",
      "Epoch 59/80\n",
      "1/1 - 0s - loss: 0.1200 - mse: 0.1200 - val_loss: 2.1422 - val_mse: 2.1422\n",
      "Epoch 60/80\n",
      "1/1 - 0s - loss: 0.1151 - mse: 0.1150 - val_loss: 2.1341 - val_mse: 2.1341\n",
      "Epoch 61/80\n",
      "1/1 - 0s - loss: 0.1094 - mse: 0.1093 - val_loss: 2.1522 - val_mse: 2.1522\n",
      "Epoch 62/80\n",
      "1/1 - 0s - loss: 0.0999 - mse: 0.0998 - val_loss: 2.1956 - val_mse: 2.1955\n",
      "Epoch 63/80\n",
      "1/1 - 0s - loss: 0.0854 - mse: 0.0854 - val_loss: 2.2636 - val_mse: 2.2635\n",
      "Epoch 64/80\n",
      "1/1 - 0s - loss: 0.0671 - mse: 0.0670 - val_loss: 2.3537 - val_mse: 2.3537\n",
      "Epoch 65/80\n",
      "1/1 - 0s - loss: 0.0476 - mse: 0.0476 - val_loss: 2.4636 - val_mse: 2.4636\n",
      "Epoch 66/80\n",
      "1/1 - 0s - loss: 0.0306 - mse: 0.0306 - val_loss: 2.5884 - val_mse: 2.5883\n",
      "Epoch 67/80\n",
      "1/1 - 0s - loss: 0.0191 - mse: 0.0191 - val_loss: 2.7213 - val_mse: 2.7213\n",
      "Epoch 68/80\n",
      "1/1 - 0s - loss: 0.0148 - mse: 0.0148 - val_loss: 2.8502 - val_mse: 2.8502\n",
      "Epoch 69/80\n",
      "1/1 - 0s - loss: 0.0173 - mse: 0.0173 - val_loss: 2.9570 - val_mse: 2.9570\n",
      "Epoch 70/80\n",
      "1/1 - 0s - loss: 0.0238 - mse: 0.0237 - val_loss: 3.0304 - val_mse: 3.0304\n",
      "Epoch 71/80\n",
      "1/1 - 0s - loss: 0.0303 - mse: 0.0302 - val_loss: 3.0659 - val_mse: 3.0659\n",
      "Epoch 72/80\n",
      "1/1 - 0s - loss: 0.0339 - mse: 0.0338 - val_loss: 3.0663 - val_mse: 3.0663\n",
      "Epoch 73/80\n",
      "1/1 - 0s - loss: 0.0335 - mse: 0.0335 - val_loss: 3.0380 - val_mse: 3.0380\n",
      "Epoch 74/80\n",
      "1/1 - 0s - loss: 0.0299 - mse: 0.0299 - val_loss: 2.9888 - val_mse: 2.9887\n",
      "Epoch 75/80\n",
      "1/1 - 0s - loss: 0.0246 - mse: 0.0246 - val_loss: 2.9271 - val_mse: 2.9271\n",
      "Epoch 76/80\n",
      "1/1 - 0s - loss: 0.0193 - mse: 0.0193 - val_loss: 2.8596 - val_mse: 2.8595\n",
      "Epoch 77/80\n",
      "1/1 - 0s - loss: 0.0151 - mse: 0.0151 - val_loss: 2.7927 - val_mse: 2.7926\n",
      "Epoch 78/80\n",
      "1/1 - 0s - loss: 0.0125 - mse: 0.0125 - val_loss: 2.7316 - val_mse: 2.7316\n",
      "Epoch 79/80\n",
      "1/1 - 0s - loss: 0.0114 - mse: 0.0114 - val_loss: 2.6801 - val_mse: 2.6801\n",
      "Epoch 80/80\n",
      "1/1 - 0s - loss: 0.0111 - mse: 0.0111 - val_loss: 2.6403 - val_mse: 2.6403\n"
     ]
    }
   ],
   "source": [
    "history = model.fit(\n",
    "    train_model_input,\n",
    "    train[target].values,\n",
    "    batch_size=256,\n",
    "    epochs=80,\n",
    "    verbose=2,\n",
    "    validation_split=0.2\n",
    ")"
   ]
  },
  {
   "cell_type": "code",
   "execution_count": 41,
   "id": "1139eff4",
   "metadata": {},
   "outputs": [],
   "source": [
    "pred_ans = model.predict(\n",
    "    test_model_input,\n",
    "    batch_size=256\n",
    ")"
   ]
  },
  {
   "cell_type": "code",
   "execution_count": 42,
   "id": "20b6b768",
   "metadata": {},
   "outputs": [
    {
     "name": "stdout",
     "output_type": "stream",
     "text": [
      "test MSE 2.5587\n"
     ]
    }
   ],
   "source": [
    "print(\"test MSE\", round(mean_squared_error(test[target].values, pred_ans), 4))"
   ]
  },
  {
   "cell_type": "code",
   "execution_count": 43,
   "id": "b2ec93dd",
   "metadata": {},
   "outputs": [],
   "source": [
    "history_df = pd.DataFrame(history.history)"
   ]
  },
  {
   "cell_type": "code",
   "execution_count": 44,
   "id": "6ac11695",
   "metadata": {},
   "outputs": [
    {
     "data": {
      "text/plain": [
       "<AxesSubplot:title={'center':'MSE'}>"
      ]
     },
     "execution_count": 44,
     "metadata": {},
     "output_type": "execute_result"
    },
    {
     "data": {
      "image/png": "[encoded data removed]",
      "text/plain": [
       "<Figure size 432x288 with 1 Axes>"
      ]
     },
     "metadata": {
      "needs_background": "light"
     },
     "output_type": "display_data"
    }
   ],
   "source": [
    "history_df.loc[:, ['mse', 'val_mse']].plot(title=\"MSE\")"
   ]
  },
  {
   "cell_type": "code",
   "execution_count": null,
   "id": "83595dd3",
   "metadata": {},
   "outputs": [],
   "source": []
  }
 ],
 "metadata": {
  "kernelspec": {
   "display_name": "Python 3 (ipykernel)",
   "language": "python",
   "name": "python3"
  },
  "language_info": {
   "codemirror_mode": {
    "name": "ipython",
    "version": 3
   },
   "file_extension": ".py",
   "mimetype": "text/x-python",
   "name": "python",
   "nbconvert_exporter": "python",
   "pygments_lexer": "ipython3",
   "version": "3.8.2"
  }
 },
 "nbformat": 4,
 "nbformat_minor": 5
}
