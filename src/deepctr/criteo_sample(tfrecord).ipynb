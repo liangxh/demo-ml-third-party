{
 "cells": [
  {
   "cell_type": "markdown",
   "id": "5e6d8581",
   "metadata": {},
   "source": [
    "https://deepctr-doc.readthedocs.io/en/latest/Quick-Start.html"
   ]
  },
  {
   "cell_type": "code",
   "execution_count": 1,
   "id": "a3a87233",
   "metadata": {},
   "outputs": [],
   "source": [
    "import os\n",
    "\n",
    "DIR_DATA = os.path.join(os.environ[\"HOME\"], \"workspace/third_party/shenweichen/DeepCTR/examples\")"
   ]
  },
  {
   "cell_type": "code",
   "execution_count": 15,
   "id": "00406661",
   "metadata": {},
   "outputs": [],
   "source": [
    "import pandas as pd\n",
    "import tensorflow as tf\n",
    "\n",
    "from tensorflow.python.ops.parsing_ops import  FixedLenFeature\n",
    "from deepctr.estimator.inputs import input_fn_tfrecord\n",
    "from deepctr.estimator.models import DeepFMEstimator"
   ]
  },
  {
   "cell_type": "code",
   "execution_count": 3,
   "id": "451dcf20",
   "metadata": {},
   "outputs": [],
   "source": [
    "sparse_features = ['C' + str(i) for i in range(1, 27)]\n",
    "dense_features = ['I' + str(i) for i in range(1, 14)]"
   ]
  },
  {
   "cell_type": "code",
   "execution_count": 22,
   "id": "d84aaaf1",
   "metadata": {},
   "outputs": [],
   "source": [
    "dnn_feature_columns = []\n",
    "linear_feature_columns = []"
   ]
  },
  {
   "cell_type": "code",
   "execution_count": 23,
   "id": "fd927a81",
   "metadata": {},
   "outputs": [],
   "source": [
    "for i, feat in enumerate(sparse_features):\n",
    "    dnn_feature_columns.append(\n",
    "        tf.feature_column.embedding_column(\n",
    "            categorical_column = tf.feature_column.categorical_column_with_identity(key = feat, num_buckets = 1000),\n",
    "            dimension = 4\n",
    "        )\n",
    "      )\n",
    "    linear_feature_columns.append(\n",
    "        tf.feature_column.categorical_column_with_identity(key = feat, num_buckets = 1000)\n",
    "    )"
   ]
  },
  {
   "cell_type": "code",
   "execution_count": 24,
   "id": "58107cab",
   "metadata": {},
   "outputs": [],
   "source": [
    "for feat in dense_features:\n",
    "    dnn_feature_columns.append(tf.feature_column.numeric_column(feat))\n",
    "    linear_feature_columns.append(tf.feature_column.numeric_column(feat))"
   ]
  },
  {
   "cell_type": "code",
   "execution_count": 4,
   "id": "9a23d623",
   "metadata": {},
   "outputs": [],
   "source": [
    "feature_description = {\n",
    "    k: FixedLenFeature(dtype=tf.int64, shape=1)\n",
    "    for k in sparse_features\n",
    "}\n",
    "\n",
    "feature_description.update({\n",
    "    k: FixedLenFeature(dtype=tf.float32, shape=1)\n",
    "    for k in dense_features\n",
    "})\n",
    "\n",
    "feature_description['label'] = FixedLenFeature(dtype=tf.float32, shape=1)"
   ]
  },
  {
   "cell_type": "code",
   "execution_count": 25,
   "id": "652b7118",
   "metadata": {},
   "outputs": [
    {
     "name": "stdout",
     "output_type": "stream",
     "text": [
      "Help on function input_fn_tfrecord in module deepctr.estimator.inputs:\n",
      "\n",
      "input_fn_tfrecord(filenames, feature_description, label=None, batch_size=256, num_epochs=1, num_parallel_calls=8, shuffle_factor=10, prefetch_factor=1)\n",
      "\n"
     ]
    }
   ],
   "source": [
    "help(input_fn_tfrecord)"
   ]
  },
  {
   "cell_type": "code",
   "execution_count": 5,
   "id": "0255349a",
   "metadata": {},
   "outputs": [],
   "source": [
    "train_model_input = input_fn_tfrecord(\n",
    "    filenames=os.path.join(DIR_DATA, 'criteo_sample.tr.tfrecords'),\n",
    "    feature_description=feature_description, \n",
    "    label='label',\n",
    "    batch_size=256,\n",
    "    num_epochs=1,\n",
    "    shuffle_factor=10\n",
    ")"
   ]
  },
  {
   "cell_type": "code",
   "execution_count": 6,
   "id": "b451a30a",
   "metadata": {},
   "outputs": [],
   "source": [
    "test_model_input = input_fn_tfrecord(\n",
    "    filenames=os.path.join(DIR_DATA, 'criteo_sample.te.tfrecords'),\n",
    "    feature_description=feature_description,\n",
    "    label='label',\n",
    "    batch_size=2 ** 14,\n",
    "    num_epochs=1,\n",
    "    shuffle_factor=0\n",
    ")"
   ]
  },
  {
   "cell_type": "code",
   "execution_count": 7,
   "id": "60012aff",
   "metadata": {},
   "outputs": [
    {
     "name": "stdout",
     "output_type": "stream",
     "text": [
      "INFO:tensorflow:Using default config.\n",
      "WARNING:tensorflow:Using temporary folder as model directory: /var/folders/1l/gvk88th52gj0p_5n_97nkl680000gn/T/tmplnkl24oi\n",
      "INFO:tensorflow:Using config: {'_model_dir': '/var/folders/1l/gvk88th52gj0p_5n_97nkl680000gn/T/tmplnkl24oi', '_tf_random_seed': None, '_save_summary_steps': 100, '_save_checkpoints_steps': None, '_save_checkpoints_secs': 600, '_session_config': allow_soft_placement: true\n",
      "graph_options {\n",
      "  rewrite_options {\n",
      "    meta_optimizer_iterations: ONE\n",
      "  }\n",
      "}\n",
      ", '_keep_checkpoint_max': 5, '_keep_checkpoint_every_n_hours': 10000, '_log_step_count_steps': 100, '_train_distribute': None, '_device_fn': None, '_protocol': None, '_eval_distribute': None, '_experimental_distribute': None, '_experimental_max_worker_delay_secs': None, '_session_creation_timeout_secs': 7200, '_checkpoint_save_graph_def': True, '_service': None, '_cluster_spec': ClusterSpec({}), '_task_type': 'worker', '_task_id': 0, '_global_id_in_cluster': 0, '_master': '', '_evaluation_master': '', '_is_chief': True, '_num_ps_replicas': 0, '_num_worker_replicas': 1}\n"
     ]
    }
   ],
   "source": [
    "model = DeepFMEstimator(\n",
    "    linear_feature_columns,\n",
    "    dnn_feature_columns,\n",
    "    task='binary'\n",
    ")"
   ]
  },
  {
   "cell_type": "code",
   "execution_count": 26,
   "id": "5500d59a",
   "metadata": {},
   "outputs": [
    {
     "data": {
      "text/plain": [
       "tensorflow_estimator.python.estimator.estimator.EstimatorV2"
      ]
     },
     "execution_count": 26,
     "metadata": {},
     "output_type": "execute_result"
    }
   ],
   "source": [
    "type(model)"
   ]
  },
  {
   "cell_type": "code",
   "execution_count": 18,
   "id": "1b175274",
   "metadata": {},
   "outputs": [
    {
     "name": "stdout",
     "output_type": "stream",
     "text": [
      "INFO:tensorflow:Calling model_fn.\n",
      "INFO:tensorflow:Done calling model_fn.\n",
      "INFO:tensorflow:Create CheckpointSaverHook.\n",
      "INFO:tensorflow:Graph was finalized.\n",
      "INFO:tensorflow:Restoring parameters from /var/folders/1l/gvk88th52gj0p_5n_97nkl680000gn/T/tmplnkl24oi/model.ckpt-2\n",
      "INFO:tensorflow:Running local_init_op.\n",
      "INFO:tensorflow:Done running local_init_op.\n",
      "INFO:tensorflow:Calling checkpoint listeners before saving checkpoint 2...\n",
      "INFO:tensorflow:Saving checkpoints for 2 into /var/folders/1l/gvk88th52gj0p_5n_97nkl680000gn/T/tmplnkl24oi/model.ckpt.\n",
      "INFO:tensorflow:Calling checkpoint listeners after saving checkpoint 2...\n",
      "INFO:tensorflow:loss = 384.84216, step = 2\n",
      "INFO:tensorflow:Calling checkpoint listeners before saving checkpoint 3...\n",
      "INFO:tensorflow:Saving checkpoints for 3 into /var/folders/1l/gvk88th52gj0p_5n_97nkl680000gn/T/tmplnkl24oi/model.ckpt.\n",
      "INFO:tensorflow:Calling checkpoint listeners after saving checkpoint 3...\n",
      "INFO:tensorflow:Loss for final step: 384.84216.\n"
     ]
    }
   ],
   "source": [
    "estimator = model.train(train_model_input)"
   ]
  },
  {
   "cell_type": "code",
   "execution_count": 12,
   "id": "2624a851",
   "metadata": {},
   "outputs": [
    {
     "name": "stdout",
     "output_type": "stream",
     "text": [
      "INFO:tensorflow:Calling model_fn.\n",
      "INFO:tensorflow:Done calling model_fn.\n",
      "INFO:tensorflow:Starting evaluation at 2022-09-24T18:50:03\n",
      "INFO:tensorflow:Graph was finalized.\n",
      "INFO:tensorflow:Restoring parameters from /var/folders/1l/gvk88th52gj0p_5n_97nkl680000gn/T/tmplnkl24oi/model.ckpt-2\n",
      "INFO:tensorflow:Running local_init_op.\n",
      "INFO:tensorflow:Done running local_init_op.\n",
      "INFO:tensorflow:Inference Time : 2.10400s\n",
      "INFO:tensorflow:Finished evaluation at 2022-09-24-18:50:05\n",
      "INFO:tensorflow:Saving dict for global step 2: AUC = 0.6116072, LogLoss = 1.9607964, global_step = 2, label/mean = 0.3, loss = 78.436134, prediction/mean = 0.24683996\n",
      "INFO:tensorflow:Saving 'checkpoint_path' summary for global step 2: /var/folders/1l/gvk88th52gj0p_5n_97nkl680000gn/T/tmplnkl24oi/model.ckpt-2\n"
     ]
    }
   ],
   "source": [
    "eval_result = model.evaluate(test_model_input)"
   ]
  },
  {
   "cell_type": "code",
   "execution_count": 13,
   "id": "b042adc6",
   "metadata": {},
   "outputs": [
    {
     "name": "stdout",
     "output_type": "stream",
     "text": [
      "{'AUC': 0.6116072, 'LogLoss': 1.9607964, 'label/mean': 0.3, 'loss': 78.436134, 'prediction/mean': 0.24683996, 'global_step': 2}\n"
     ]
    }
   ],
   "source": [
    "print(eval_result)"
   ]
  },
  {
   "cell_type": "code",
   "execution_count": null,
   "id": "a578c59a",
   "metadata": {},
   "outputs": [],
   "source": []
  }
 ],
 "metadata": {
  "kernelspec": {
   "display_name": "Python 3 (ipykernel)",
   "language": "python",
   "name": "python3"
  },
  "language_info": {
   "codemirror_mode": {
    "name": "ipython",
    "version": 3
   },
   "file_extension": ".py",
   "mimetype": "text/x-python",
   "name": "python",
   "nbconvert_exporter": "python",
   "pygments_lexer": "ipython3",
   "version": "3.8.2"
  }
 },
 "nbformat": 4,
 "nbformat_minor": 5
}
