{
 "cells": [
  {
   "cell_type": "markdown",
   "id": "a78f9ad0",
   "metadata": {},
   "source": [
    "https://deepctr-doc.readthedocs.io/en/latest/Quick-Start.html"
   ]
  },
  {
   "cell_type": "code",
   "execution_count": 1,
   "id": "a52cfe4e",
   "metadata": {},
   "outputs": [],
   "source": [
    "import os\n",
    "\n",
    "DIR_DATA = os.path.join(os.environ[\"HOME\"], \"workspace/third_party/shenweichen/DeepCTR/examples\")"
   ]
  },
  {
   "cell_type": "code",
   "execution_count": 2,
   "id": "b130514b",
   "metadata": {},
   "outputs": [],
   "source": [
    "import pandas as pd\n",
    "from sklearn.metrics import log_loss, roc_auc_score, accuracy_score\n",
    "from sklearn.preprocessing import LabelEncoder, MinMaxScaler\n",
    "from sklearn.model_selection import train_test_split\n",
    "from deepctr.models import DeepFM\n",
    "from deepctr.feature_column import SparseFeat, DenseFeat,get_feature_names"
   ]
  },
  {
   "cell_type": "code",
   "execution_count": 3,
   "id": "c45a49ae",
   "metadata": {},
   "outputs": [],
   "source": [
    "data = pd.read_csv(os.path.join(DIR_DATA, './criteo_sample.txt'))"
   ]
  },
  {
   "cell_type": "code",
   "execution_count": 4,
   "id": "816b0b12",
   "metadata": {},
   "outputs": [],
   "source": [
    "sparse_features = ['C' + str(i) for i in range(1, 27)]\n",
    "dense_features = ['I'+str(i) for i in range(1, 14)]\n",
    "\n",
    "data[sparse_features] = data[sparse_features].fillna('-1', )\n",
    "data[dense_features] = data[dense_features].fillna(0,)\n",
    "target = ['label']"
   ]
  },
  {
   "cell_type": "code",
   "execution_count": 5,
   "id": "ca7e726c",
   "metadata": {},
   "outputs": [
    {
     "data": {
      "text/html": [
       "<div>\n",
       "<style scoped>\n",
       "    .dataframe tbody tr th:only-of-type {\n",
       "        vertical-align: middle;\n",
       "    }\n",
       "\n",
       "    .dataframe tbody tr th {\n",
       "        vertical-align: top;\n",
       "    }\n",
       "\n",
       "    .dataframe thead th {\n",
       "        text-align: right;\n",
       "    }\n",
       "</style>\n",
       "<table border=\"1\" class=\"dataframe\">\n",
       "  <thead>\n",
       "    <tr style=\"text-align: right;\">\n",
       "      <th></th>\n",
       "      <th>label</th>\n",
       "      <th>I1</th>\n",
       "      <th>I2</th>\n",
       "      <th>I3</th>\n",
       "      <th>I4</th>\n",
       "      <th>I5</th>\n",
       "      <th>I6</th>\n",
       "      <th>I7</th>\n",
       "      <th>I8</th>\n",
       "      <th>I9</th>\n",
       "      <th>...</th>\n",
       "      <th>C17</th>\n",
       "      <th>C18</th>\n",
       "      <th>C19</th>\n",
       "      <th>C20</th>\n",
       "      <th>C21</th>\n",
       "      <th>C22</th>\n",
       "      <th>C23</th>\n",
       "      <th>C24</th>\n",
       "      <th>C25</th>\n",
       "      <th>C26</th>\n",
       "    </tr>\n",
       "  </thead>\n",
       "  <tbody>\n",
       "    <tr>\n",
       "      <th>0</th>\n",
       "      <td>0</td>\n",
       "      <td>0.0</td>\n",
       "      <td>3</td>\n",
       "      <td>260.0</td>\n",
       "      <td>0.0</td>\n",
       "      <td>17668.0</td>\n",
       "      <td>0.0</td>\n",
       "      <td>0.0</td>\n",
       "      <td>33.0</td>\n",
       "      <td>0.0</td>\n",
       "      <td>...</td>\n",
       "      <td>e5ba7672</td>\n",
       "      <td>87c6f83c</td>\n",
       "      <td>-1</td>\n",
       "      <td>-1</td>\n",
       "      <td>0429f84b</td>\n",
       "      <td>-1</td>\n",
       "      <td>3a171ecb</td>\n",
       "      <td>c0d61a5c</td>\n",
       "      <td>-1</td>\n",
       "      <td>-1</td>\n",
       "    </tr>\n",
       "    <tr>\n",
       "      <th>1</th>\n",
       "      <td>0</td>\n",
       "      <td>0.0</td>\n",
       "      <td>-1</td>\n",
       "      <td>19.0</td>\n",
       "      <td>35.0</td>\n",
       "      <td>30251.0</td>\n",
       "      <td>247.0</td>\n",
       "      <td>1.0</td>\n",
       "      <td>35.0</td>\n",
       "      <td>160.0</td>\n",
       "      <td>...</td>\n",
       "      <td>d4bb7bd8</td>\n",
       "      <td>6fc84bfb</td>\n",
       "      <td>-1</td>\n",
       "      <td>-1</td>\n",
       "      <td>5155d8a3</td>\n",
       "      <td>-1</td>\n",
       "      <td>be7c41b4</td>\n",
       "      <td>ded4aac9</td>\n",
       "      <td>-1</td>\n",
       "      <td>-1</td>\n",
       "    </tr>\n",
       "    <tr>\n",
       "      <th>2</th>\n",
       "      <td>0</td>\n",
       "      <td>0.0</td>\n",
       "      <td>0</td>\n",
       "      <td>2.0</td>\n",
       "      <td>12.0</td>\n",
       "      <td>2013.0</td>\n",
       "      <td>164.0</td>\n",
       "      <td>6.0</td>\n",
       "      <td>35.0</td>\n",
       "      <td>523.0</td>\n",
       "      <td>...</td>\n",
       "      <td>e5ba7672</td>\n",
       "      <td>675c9258</td>\n",
       "      <td>-1</td>\n",
       "      <td>-1</td>\n",
       "      <td>2e01979f</td>\n",
       "      <td>-1</td>\n",
       "      <td>bcdee96c</td>\n",
       "      <td>6d5d1302</td>\n",
       "      <td>-1</td>\n",
       "      <td>-1</td>\n",
       "    </tr>\n",
       "    <tr>\n",
       "      <th>3</th>\n",
       "      <td>0</td>\n",
       "      <td>0.0</td>\n",
       "      <td>13</td>\n",
       "      <td>1.0</td>\n",
       "      <td>4.0</td>\n",
       "      <td>16836.0</td>\n",
       "      <td>200.0</td>\n",
       "      <td>5.0</td>\n",
       "      <td>4.0</td>\n",
       "      <td>29.0</td>\n",
       "      <td>...</td>\n",
       "      <td>e5ba7672</td>\n",
       "      <td>52e44668</td>\n",
       "      <td>-1</td>\n",
       "      <td>-1</td>\n",
       "      <td>e587c466</td>\n",
       "      <td>-1</td>\n",
       "      <td>32c7478e</td>\n",
       "      <td>3b183c5c</td>\n",
       "      <td>-1</td>\n",
       "      <td>-1</td>\n",
       "    </tr>\n",
       "    <tr>\n",
       "      <th>4</th>\n",
       "      <td>0</td>\n",
       "      <td>0.0</td>\n",
       "      <td>0</td>\n",
       "      <td>104.0</td>\n",
       "      <td>27.0</td>\n",
       "      <td>1990.0</td>\n",
       "      <td>142.0</td>\n",
       "      <td>4.0</td>\n",
       "      <td>32.0</td>\n",
       "      <td>37.0</td>\n",
       "      <td>...</td>\n",
       "      <td>e5ba7672</td>\n",
       "      <td>25c88e42</td>\n",
       "      <td>21ddcdc9</td>\n",
       "      <td>b1252a9d</td>\n",
       "      <td>0e8585d2</td>\n",
       "      <td>-1</td>\n",
       "      <td>32c7478e</td>\n",
       "      <td>0d4a6d1a</td>\n",
       "      <td>001f3601</td>\n",
       "      <td>92c878de</td>\n",
       "    </tr>\n",
       "  </tbody>\n",
       "</table>\n",
       "<p>5 rows × 40 columns</p>\n",
       "</div>"
      ],
      "text/plain": [
       "   label   I1  I2     I3    I4       I5     I6   I7    I8     I9  ...  \\\n",
       "0      0  0.0   3  260.0   0.0  17668.0    0.0  0.0  33.0    0.0  ...   \n",
       "1      0  0.0  -1   19.0  35.0  30251.0  247.0  1.0  35.0  160.0  ...   \n",
       "2      0  0.0   0    2.0  12.0   2013.0  164.0  6.0  35.0  523.0  ...   \n",
       "3      0  0.0  13    1.0   4.0  16836.0  200.0  5.0   4.0   29.0  ...   \n",
       "4      0  0.0   0  104.0  27.0   1990.0  142.0  4.0  32.0   37.0  ...   \n",
       "\n",
       "        C17       C18       C19       C20       C21 C22       C23       C24  \\\n",
       "0  e5ba7672  87c6f83c        -1        -1  0429f84b  -1  3a171ecb  c0d61a5c   \n",
       "1  d4bb7bd8  6fc84bfb        -1        -1  5155d8a3  -1  be7c41b4  ded4aac9   \n",
       "2  e5ba7672  675c9258        -1        -1  2e01979f  -1  bcdee96c  6d5d1302   \n",
       "3  e5ba7672  52e44668        -1        -1  e587c466  -1  32c7478e  3b183c5c   \n",
       "4  e5ba7672  25c88e42  21ddcdc9  b1252a9d  0e8585d2  -1  32c7478e  0d4a6d1a   \n",
       "\n",
       "        C25       C26  \n",
       "0        -1        -1  \n",
       "1        -1        -1  \n",
       "2        -1        -1  \n",
       "3        -1        -1  \n",
       "4  001f3601  92c878de  \n",
       "\n",
       "[5 rows x 40 columns]"
      ]
     },
     "execution_count": 5,
     "metadata": {},
     "output_type": "execute_result"
    }
   ],
   "source": [
    "data.head()"
   ]
  },
  {
   "cell_type": "code",
   "execution_count": 6,
   "id": "93bbaa0c",
   "metadata": {},
   "outputs": [
    {
     "data": {
      "text/plain": [
       "count    200.000000\n",
       "mean       0.245000\n",
       "std        0.431166\n",
       "min        0.000000\n",
       "25%        0.000000\n",
       "50%        0.000000\n",
       "75%        0.000000\n",
       "max        1.000000\n",
       "Name: label, dtype: float64"
      ]
     },
     "execution_count": 6,
     "metadata": {},
     "output_type": "execute_result"
    }
   ],
   "source": [
    "data['label'].describe()"
   ]
  },
  {
   "cell_type": "code",
   "execution_count": 7,
   "id": "ca31059a",
   "metadata": {},
   "outputs": [],
   "source": [
    "for feat in sparse_features:\n",
    "    encoder = LabelEncoder()\n",
    "    # 可选 HashEncoder()\n",
    "    data[feat] = encoder.fit_transform(data[feat])"
   ]
  },
  {
   "cell_type": "code",
   "execution_count": 8,
   "id": "fe2ca090",
   "metadata": {},
   "outputs": [],
   "source": [
    "mms = MinMaxScaler(feature_range=(0,1))\n",
    "data[dense_features] = mms.fit_transform(data[dense_features])"
   ]
  },
  {
   "cell_type": "code",
   "execution_count": 9,
   "id": "c7847b44",
   "metadata": {},
   "outputs": [],
   "source": [
    "# 连续特征\n",
    "dense_feat_columns = [\n",
    "    DenseFeat(name=feat, dimension=1)  # dtype='float32'\n",
    "    for feat in dense_features\n",
    "]\n",
    "\n",
    "# 稀疏特征\n",
    "sparse_feat_columns = [\n",
    "    SparseFeat(name=feat, vocabulary_size=data[feat].max() + 1, embedding_dim=4)\n",
    "    for i, feat in enumerate(sparse_features)\n",
    "]\n",
    "\n",
    "# 所有特征\n",
    "fixlen_feature_columns = dense_feat_columns + sparse_feat_columns"
   ]
  },
  {
   "cell_type": "code",
   "execution_count": 10,
   "id": "fee1d631",
   "metadata": {},
   "outputs": [],
   "source": [
    "dnn_feature_columns = fixlen_feature_columns\n",
    "linear_feature_columns = dense_feat_columns"
   ]
  },
  {
   "cell_type": "code",
   "execution_count": 11,
   "id": "97bf3480",
   "metadata": {},
   "outputs": [],
   "source": [
    "# 所有特征名\n",
    "feature_names = get_feature_names(linear_feature_columns + dnn_feature_columns)"
   ]
  },
  {
   "cell_type": "code",
   "execution_count": 12,
   "id": "6bbe5046",
   "metadata": {},
   "outputs": [],
   "source": [
    "# 拆成 train / test\n",
    "train, test = train_test_split(data, test_size=0.2)"
   ]
  },
  {
   "cell_type": "code",
   "execution_count": 13,
   "id": "d3740824",
   "metadata": {},
   "outputs": [],
   "source": [
    "# {特征名： 特征值}\n",
    "train_model_input = {name: train[name].values for name in feature_names}\n",
    "test_model_input = {name: test[name].values for name in feature_names}"
   ]
  },
  {
   "cell_type": "code",
   "execution_count": 28,
   "id": "f1b76b34",
   "metadata": {},
   "outputs": [],
   "source": [
    "model = DeepFM(\n",
    "    linear_feature_columns = linear_feature_columns,  # Linear 部分的特征\n",
    "    dnn_feature_columns = dnn_feature_columns,        # DNN 特征 \n",
    "    task='binary'    # \"binary\" for binary logloss, \"regression\" for regression loss\n",
    ")"
   ]
  },
  {
   "cell_type": "code",
   "execution_count": 29,
   "id": "e69ae326",
   "metadata": {},
   "outputs": [
    {
     "data": {
      "text/plain": [
       "tensorflow.python.keras.engine.functional.Functional"
      ]
     },
     "execution_count": 29,
     "metadata": {},
     "output_type": "execute_result"
    }
   ],
   "source": [
    "type(model)"
   ]
  },
  {
   "cell_type": "code",
   "execution_count": 30,
   "id": "b3d32296",
   "metadata": {},
   "outputs": [
    {
     "data": {
      "text/plain": [
       "numpy.ndarray"
      ]
     },
     "execution_count": 30,
     "metadata": {},
     "output_type": "execute_result"
    }
   ],
   "source": [
    "type(train[target].values)"
   ]
  },
  {
   "cell_type": "code",
   "execution_count": 31,
   "id": "e44fa1a1",
   "metadata": {},
   "outputs": [],
   "source": [
    "model.compile(\n",
    "    optimizer=\"adam\",\n",
    "    loss=\"binary_crossentropy\",\n",
    "    metrics=['binary_crossentropy', 'binary_accuracy']\n",
    ")"
   ]
  },
  {
   "cell_type": "code",
   "execution_count": 32,
   "id": "912b1fa1",
   "metadata": {},
   "outputs": [
    {
     "name": "stdout",
     "output_type": "stream",
     "text": [
      "Epoch 1/80\n",
      "1/1 - 3s - loss: 0.6585 - binary_crossentropy: 0.6585 - binary_accuracy: 0.6953 - val_loss: 0.6506 - val_binary_crossentropy: 0.6506 - val_binary_accuracy: 0.7812\n",
      "Epoch 2/80\n",
      "1/1 - 0s - loss: 0.6500 - binary_crossentropy: 0.6500 - binary_accuracy: 0.6953 - val_loss: 0.6452 - val_binary_crossentropy: 0.6452 - val_binary_accuracy: 0.7500\n",
      "Epoch 3/80\n",
      "1/1 - 0s - loss: 0.6432 - binary_crossentropy: 0.6432 - binary_accuracy: 0.6953 - val_loss: 0.6402 - val_binary_crossentropy: 0.6401 - val_binary_accuracy: 0.7188\n",
      "Epoch 4/80\n",
      "1/1 - 0s - loss: 0.6369 - binary_crossentropy: 0.6369 - binary_accuracy: 0.6953 - val_loss: 0.6349 - val_binary_crossentropy: 0.6348 - val_binary_accuracy: 0.7500\n",
      "Epoch 5/80\n",
      "1/1 - 0s - loss: 0.6306 - binary_crossentropy: 0.6305 - binary_accuracy: 0.7109 - val_loss: 0.6294 - val_binary_crossentropy: 0.6294 - val_binary_accuracy: 0.7500\n",
      "Epoch 6/80\n",
      "1/1 - 0s - loss: 0.6238 - binary_crossentropy: 0.6238 - binary_accuracy: 0.7031 - val_loss: 0.6235 - val_binary_crossentropy: 0.6235 - val_binary_accuracy: 0.7500\n",
      "Epoch 7/80\n",
      "1/1 - 0s - loss: 0.6164 - binary_crossentropy: 0.6164 - binary_accuracy: 0.7109 - val_loss: 0.6173 - val_binary_crossentropy: 0.6173 - val_binary_accuracy: 0.7812\n",
      "Epoch 8/80\n",
      "1/1 - 0s - loss: 0.6082 - binary_crossentropy: 0.6082 - binary_accuracy: 0.7109 - val_loss: 0.6107 - val_binary_crossentropy: 0.6107 - val_binary_accuracy: 0.7812\n",
      "Epoch 9/80\n",
      "1/1 - 0s - loss: 0.5991 - binary_crossentropy: 0.5991 - binary_accuracy: 0.7188 - val_loss: 0.6039 - val_binary_crossentropy: 0.6039 - val_binary_accuracy: 0.7812\n",
      "Epoch 10/80\n",
      "1/1 - 0s - loss: 0.5889 - binary_crossentropy: 0.5889 - binary_accuracy: 0.7266 - val_loss: 0.5969 - val_binary_crossentropy: 0.5968 - val_binary_accuracy: 0.7812\n",
      "Epoch 11/80\n",
      "1/1 - 0s - loss: 0.5777 - binary_crossentropy: 0.5776 - binary_accuracy: 0.7266 - val_loss: 0.5898 - val_binary_crossentropy: 0.5898 - val_binary_accuracy: 0.7812\n",
      "Epoch 12/80\n",
      "1/1 - 0s - loss: 0.5651 - binary_crossentropy: 0.5651 - binary_accuracy: 0.7266 - val_loss: 0.5828 - val_binary_crossentropy: 0.5827 - val_binary_accuracy: 0.7812\n",
      "Epoch 13/80\n",
      "1/1 - 0s - loss: 0.5513 - binary_crossentropy: 0.5513 - binary_accuracy: 0.7266 - val_loss: 0.5761 - val_binary_crossentropy: 0.5760 - val_binary_accuracy: 0.7812\n",
      "Epoch 14/80\n",
      "1/1 - 0s - loss: 0.5362 - binary_crossentropy: 0.5362 - binary_accuracy: 0.7266 - val_loss: 0.5700 - val_binary_crossentropy: 0.5700 - val_binary_accuracy: 0.7812\n",
      "Epoch 15/80\n",
      "1/1 - 0s - loss: 0.5197 - binary_crossentropy: 0.5197 - binary_accuracy: 0.7266 - val_loss: 0.5647 - val_binary_crossentropy: 0.5647 - val_binary_accuracy: 0.7812\n",
      "Epoch 16/80\n",
      "1/1 - 0s - loss: 0.5017 - binary_crossentropy: 0.5016 - binary_accuracy: 0.7266 - val_loss: 0.5603 - val_binary_crossentropy: 0.5603 - val_binary_accuracy: 0.7812\n",
      "Epoch 17/80\n",
      "1/1 - 0s - loss: 0.4818 - binary_crossentropy: 0.4818 - binary_accuracy: 0.7266 - val_loss: 0.5568 - val_binary_crossentropy: 0.5568 - val_binary_accuracy: 0.7812\n",
      "Epoch 18/80\n",
      "1/1 - 0s - loss: 0.4599 - binary_crossentropy: 0.4598 - binary_accuracy: 0.7266 - val_loss: 0.5541 - val_binary_crossentropy: 0.5540 - val_binary_accuracy: 0.7812\n",
      "Epoch 19/80\n",
      "1/1 - 0s - loss: 0.4353 - binary_crossentropy: 0.4353 - binary_accuracy: 0.7266 - val_loss: 0.5521 - val_binary_crossentropy: 0.5520 - val_binary_accuracy: 0.7812\n",
      "Epoch 20/80\n",
      "1/1 - 0s - loss: 0.4080 - binary_crossentropy: 0.4080 - binary_accuracy: 0.7422 - val_loss: 0.5503 - val_binary_crossentropy: 0.5503 - val_binary_accuracy: 0.7812\n",
      "Epoch 21/80\n",
      "1/1 - 0s - loss: 0.3781 - binary_crossentropy: 0.3780 - binary_accuracy: 0.7812 - val_loss: 0.5489 - val_binary_crossentropy: 0.5489 - val_binary_accuracy: 0.7812\n",
      "Epoch 22/80\n",
      "1/1 - 0s - loss: 0.3455 - binary_crossentropy: 0.3455 - binary_accuracy: 0.8125 - val_loss: 0.5480 - val_binary_crossentropy: 0.5479 - val_binary_accuracy: 0.7812\n",
      "Epoch 23/80\n",
      "1/1 - 0s - loss: 0.3110 - binary_crossentropy: 0.3110 - binary_accuracy: 0.8750 - val_loss: 0.5479 - val_binary_crossentropy: 0.5478 - val_binary_accuracy: 0.7812\n",
      "Epoch 24/80\n",
      "1/1 - 0s - loss: 0.2760 - binary_crossentropy: 0.2759 - binary_accuracy: 0.9141 - val_loss: 0.5492 - val_binary_crossentropy: 0.5491 - val_binary_accuracy: 0.7812\n",
      "Epoch 25/80\n",
      "1/1 - 0s - loss: 0.2415 - binary_crossentropy: 0.2414 - binary_accuracy: 0.9297 - val_loss: 0.5519 - val_binary_crossentropy: 0.5519 - val_binary_accuracy: 0.7812\n",
      "Epoch 26/80\n",
      "1/1 - 0s - loss: 0.2085 - binary_crossentropy: 0.2085 - binary_accuracy: 0.9609 - val_loss: 0.5563 - val_binary_crossentropy: 0.5562 - val_binary_accuracy: 0.7500\n",
      "Epoch 27/80\n",
      "1/1 - 0s - loss: 0.1779 - binary_crossentropy: 0.1779 - binary_accuracy: 0.9766 - val_loss: 0.5628 - val_binary_crossentropy: 0.5627 - val_binary_accuracy: 0.7188\n",
      "Epoch 28/80\n",
      "1/1 - 0s - loss: 0.1500 - binary_crossentropy: 0.1499 - binary_accuracy: 0.9844 - val_loss: 0.5720 - val_binary_crossentropy: 0.5720 - val_binary_accuracy: 0.6562\n",
      "Epoch 29/80\n",
      "1/1 - 0s - loss: 0.1250 - binary_crossentropy: 0.1250 - binary_accuracy: 0.9844 - val_loss: 0.5847 - val_binary_crossentropy: 0.5847 - val_binary_accuracy: 0.6562\n",
      "Epoch 30/80\n",
      "1/1 - 0s - loss: 0.1031 - binary_crossentropy: 0.1030 - binary_accuracy: 0.9922 - val_loss: 0.6013 - val_binary_crossentropy: 0.6013 - val_binary_accuracy: 0.6562\n",
      "Epoch 31/80\n",
      "1/1 - 0s - loss: 0.0839 - binary_crossentropy: 0.0839 - binary_accuracy: 0.9922 - val_loss: 0.6210 - val_binary_crossentropy: 0.6210 - val_binary_accuracy: 0.6562\n",
      "Epoch 32/80\n",
      "1/1 - 0s - loss: 0.0671 - binary_crossentropy: 0.0671 - binary_accuracy: 0.9922 - val_loss: 0.6435 - val_binary_crossentropy: 0.6434 - val_binary_accuracy: 0.6562\n",
      "Epoch 33/80\n",
      "1/1 - 0s - loss: 0.0526 - binary_crossentropy: 0.0525 - binary_accuracy: 1.0000 - val_loss: 0.6678 - val_binary_crossentropy: 0.6678 - val_binary_accuracy: 0.6562\n",
      "Epoch 34/80\n",
      "1/1 - 0s - loss: 0.0404 - binary_crossentropy: 0.0403 - binary_accuracy: 1.0000 - val_loss: 0.6930 - val_binary_crossentropy: 0.6930 - val_binary_accuracy: 0.6562\n",
      "Epoch 35/80\n",
      "1/1 - 0s - loss: 0.0304 - binary_crossentropy: 0.0304 - binary_accuracy: 1.0000 - val_loss: 0.7194 - val_binary_crossentropy: 0.7193 - val_binary_accuracy: 0.6562\n",
      "Epoch 36/80\n",
      "1/1 - 0s - loss: 0.0226 - binary_crossentropy: 0.0225 - binary_accuracy: 1.0000 - val_loss: 0.7472 - val_binary_crossentropy: 0.7472 - val_binary_accuracy: 0.6875\n",
      "Epoch 37/80\n",
      "1/1 - 0s - loss: 0.0166 - binary_crossentropy: 0.0165 - binary_accuracy: 1.0000 - val_loss: 0.7763 - val_binary_crossentropy: 0.7762 - val_binary_accuracy: 0.6875\n",
      "Epoch 38/80\n",
      "1/1 - 0s - loss: 0.0120 - binary_crossentropy: 0.0119 - binary_accuracy: 1.0000 - val_loss: 0.8066 - val_binary_crossentropy: 0.8065 - val_binary_accuracy: 0.6562\n",
      "Epoch 39/80\n",
      "1/1 - 0s - loss: 0.0086 - binary_crossentropy: 0.0085 - binary_accuracy: 1.0000 - val_loss: 0.8379 - val_binary_crossentropy: 0.8378 - val_binary_accuracy: 0.6250\n",
      "Epoch 40/80\n",
      "1/1 - 0s - loss: 0.0061 - binary_crossentropy: 0.0060 - binary_accuracy: 1.0000 - val_loss: 0.8702 - val_binary_crossentropy: 0.8702 - val_binary_accuracy: 0.6250\n",
      "Epoch 41/80\n",
      "1/1 - 0s - loss: 0.0043 - binary_crossentropy: 0.0043 - binary_accuracy: 1.0000 - val_loss: 0.9031 - val_binary_crossentropy: 0.9031 - val_binary_accuracy: 0.6250\n",
      "Epoch 42/80\n",
      "1/1 - 0s - loss: 0.0031 - binary_crossentropy: 0.0030 - binary_accuracy: 1.0000 - val_loss: 0.9364 - val_binary_crossentropy: 0.9363 - val_binary_accuracy: 0.6562\n",
      "Epoch 43/80\n",
      "1/1 - 0s - loss: 0.0022 - binary_crossentropy: 0.0021 - binary_accuracy: 1.0000 - val_loss: 0.9693 - val_binary_crossentropy: 0.9692 - val_binary_accuracy: 0.6562\n",
      "Epoch 44/80\n",
      "1/1 - 0s - loss: 0.0016 - binary_crossentropy: 0.0015 - binary_accuracy: 1.0000 - val_loss: 1.0018 - val_binary_crossentropy: 1.0018 - val_binary_accuracy: 0.6250\n",
      "Epoch 45/80\n",
      "1/1 - 0s - loss: 0.0012 - binary_crossentropy: 0.0011 - binary_accuracy: 1.0000 - val_loss: 1.0335 - val_binary_crossentropy: 1.0334 - val_binary_accuracy: 0.6250\n",
      "Epoch 46/80\n",
      "1/1 - 0s - loss: 8.9766e-04 - binary_crossentropy: 8.1007e-04 - binary_accuracy: 1.0000 - val_loss: 1.0642 - val_binary_crossentropy: 1.0641 - val_binary_accuracy: 0.6250\n",
      "Epoch 47/80\n",
      "1/1 - 0s - loss: 6.8934e-04 - binary_crossentropy: 6.0060e-04 - binary_accuracy: 1.0000 - val_loss: 1.0936 - val_binary_crossentropy: 1.0936 - val_binary_accuracy: 0.6250\n"
     ]
    },
    {
     "name": "stdout",
     "output_type": "stream",
     "text": [
      "Epoch 48/80\n",
      "1/1 - 0s - loss: 5.4159e-04 - binary_crossentropy: 4.5180e-04 - binary_accuracy: 1.0000 - val_loss: 1.1217 - val_binary_crossentropy: 1.1216 - val_binary_accuracy: 0.5938\n",
      "Epoch 49/80\n",
      "1/1 - 0s - loss: 4.3581e-04 - binary_crossentropy: 3.4504e-04 - binary_accuracy: 1.0000 - val_loss: 1.1484 - val_binary_crossentropy: 1.1483 - val_binary_accuracy: 0.5938\n",
      "Epoch 50/80\n",
      "1/1 - 0s - loss: 3.5926e-04 - binary_crossentropy: 2.6760e-04 - binary_accuracy: 1.0000 - val_loss: 1.1735 - val_binary_crossentropy: 1.1734 - val_binary_accuracy: 0.5938\n",
      "Epoch 51/80\n",
      "1/1 - 0s - loss: 3.0323e-04 - binary_crossentropy: 2.1075e-04 - binary_accuracy: 1.0000 - val_loss: 1.1970 - val_binary_crossentropy: 1.1969 - val_binary_accuracy: 0.5938\n",
      "Epoch 52/80\n",
      "1/1 - 0s - loss: 2.6171e-04 - binary_crossentropy: 1.6848e-04 - binary_accuracy: 1.0000 - val_loss: 1.2189 - val_binary_crossentropy: 1.2188 - val_binary_accuracy: 0.5938\n",
      "Epoch 53/80\n",
      "1/1 - 0s - loss: 2.3060e-04 - binary_crossentropy: 1.3669e-04 - binary_accuracy: 1.0000 - val_loss: 1.2391 - val_binary_crossentropy: 1.2390 - val_binary_accuracy: 0.5938\n",
      "Epoch 54/80\n",
      "1/1 - 0s - loss: 2.0701e-04 - binary_crossentropy: 1.1247e-04 - binary_accuracy: 1.0000 - val_loss: 1.2579 - val_binary_crossentropy: 1.2578 - val_binary_accuracy: 0.5938\n",
      "Epoch 55/80\n",
      "1/1 - 0s - loss: 1.8891e-04 - binary_crossentropy: 9.3784e-05 - binary_accuracy: 1.0000 - val_loss: 1.2752 - val_binary_crossentropy: 1.2751 - val_binary_accuracy: 0.5938\n",
      "Epoch 56/80\n",
      "1/1 - 0s - loss: 1.7487e-04 - binary_crossentropy: 7.9220e-05 - binary_accuracy: 1.0000 - val_loss: 1.2912 - val_binary_crossentropy: 1.2911 - val_binary_accuracy: 0.5938\n",
      "Epoch 57/80\n",
      "1/1 - 0s - loss: 1.6386e-04 - binary_crossentropy: 6.7735e-05 - binary_accuracy: 1.0000 - val_loss: 1.3060 - val_binary_crossentropy: 1.3059 - val_binary_accuracy: 0.5938\n",
      "Epoch 58/80\n",
      "1/1 - 0s - loss: 1.5515e-04 - binary_crossentropy: 5.8582e-05 - binary_accuracy: 1.0000 - val_loss: 1.3195 - val_binary_crossentropy: 1.3194 - val_binary_accuracy: 0.5938\n",
      "Epoch 59/80\n",
      "1/1 - 0s - loss: 1.4818e-04 - binary_crossentropy: 5.1213e-05 - binary_accuracy: 1.0000 - val_loss: 1.3321 - val_binary_crossentropy: 1.3320 - val_binary_accuracy: 0.5938\n",
      "Epoch 60/80\n",
      "1/1 - 0s - loss: 1.4255e-04 - binary_crossentropy: 4.5227e-05 - binary_accuracy: 1.0000 - val_loss: 1.3436 - val_binary_crossentropy: 1.3435 - val_binary_accuracy: 0.5938\n",
      "Epoch 61/80\n",
      "1/1 - 0s - loss: 1.3798e-04 - binary_crossentropy: 4.0323e-05 - binary_accuracy: 1.0000 - val_loss: 1.3541 - val_binary_crossentropy: 1.3540 - val_binary_accuracy: 0.5938\n",
      "Epoch 62/80\n",
      "1/1 - 0s - loss: 1.3423e-04 - binary_crossentropy: 3.6268e-05 - binary_accuracy: 1.0000 - val_loss: 1.3638 - val_binary_crossentropy: 1.3637 - val_binary_accuracy: 0.5938\n",
      "Epoch 63/80\n",
      "1/1 - 0s - loss: 1.3112e-04 - binary_crossentropy: 3.2881e-05 - binary_accuracy: 1.0000 - val_loss: 1.3726 - val_binary_crossentropy: 1.3725 - val_binary_accuracy: 0.5938\n",
      "Epoch 64/80\n",
      "1/1 - 0s - loss: 1.2853e-04 - binary_crossentropy: 3.0044e-05 - binary_accuracy: 1.0000 - val_loss: 1.3807 - val_binary_crossentropy: 1.3806 - val_binary_accuracy: 0.5938\n",
      "Epoch 65/80\n",
      "1/1 - 0s - loss: 1.2636e-04 - binary_crossentropy: 2.7645e-05 - binary_accuracy: 1.0000 - val_loss: 1.3881 - val_binary_crossentropy: 1.3880 - val_binary_accuracy: 0.5938\n",
      "Epoch 66/80\n",
      "1/1 - 0s - loss: 1.2452e-04 - binary_crossentropy: 2.5606e-05 - binary_accuracy: 1.0000 - val_loss: 1.3948 - val_binary_crossentropy: 1.3947 - val_binary_accuracy: 0.5938\n",
      "Epoch 67/80\n",
      "1/1 - 0s - loss: 1.2296e-04 - binary_crossentropy: 2.3861e-05 - binary_accuracy: 1.0000 - val_loss: 1.4009 - val_binary_crossentropy: 1.4008 - val_binary_accuracy: 0.5938\n",
      "Epoch 68/80\n",
      "1/1 - 0s - loss: 1.2163e-04 - binary_crossentropy: 2.2363e-05 - binary_accuracy: 1.0000 - val_loss: 1.4065 - val_binary_crossentropy: 1.4064 - val_binary_accuracy: 0.5938\n",
      "Epoch 69/80\n",
      "1/1 - 0s - loss: 1.2049e-04 - binary_crossentropy: 2.1063e-05 - binary_accuracy: 1.0000 - val_loss: 1.4116 - val_binary_crossentropy: 1.4115 - val_binary_accuracy: 0.5938\n",
      "Epoch 70/80\n",
      "1/1 - 0s - loss: 1.1950e-04 - binary_crossentropy: 1.9942e-05 - binary_accuracy: 1.0000 - val_loss: 1.4162 - val_binary_crossentropy: 1.4161 - val_binary_accuracy: 0.5938\n",
      "Epoch 71/80\n",
      "1/1 - 0s - loss: 1.1864e-04 - binary_crossentropy: 1.8957e-05 - binary_accuracy: 1.0000 - val_loss: 1.4204 - val_binary_crossentropy: 1.4203 - val_binary_accuracy: 0.5938\n",
      "Epoch 72/80\n",
      "1/1 - 0s - loss: 1.1789e-04 - binary_crossentropy: 1.8092e-05 - binary_accuracy: 1.0000 - val_loss: 1.4242 - val_binary_crossentropy: 1.4241 - val_binary_accuracy: 0.5938\n",
      "Epoch 73/80\n",
      "1/1 - 0s - loss: 1.1724e-04 - binary_crossentropy: 1.7339e-05 - binary_accuracy: 1.0000 - val_loss: 1.4277 - val_binary_crossentropy: 1.4276 - val_binary_accuracy: 0.5938\n",
      "Epoch 74/80\n",
      "1/1 - 0s - loss: 1.1666e-04 - binary_crossentropy: 1.6671e-05 - binary_accuracy: 1.0000 - val_loss: 1.4308 - val_binary_crossentropy: 1.4307 - val_binary_accuracy: 0.5938\n",
      "Epoch 75/80\n",
      "1/1 - 0s - loss: 1.1616e-04 - binary_crossentropy: 1.6081e-05 - binary_accuracy: 1.0000 - val_loss: 1.4337 - val_binary_crossentropy: 1.4336 - val_binary_accuracy: 0.5938\n",
      "Epoch 76/80\n",
      "1/1 - 0s - loss: 1.1570e-04 - binary_crossentropy: 1.5550e-05 - binary_accuracy: 1.0000 - val_loss: 1.4362 - val_binary_crossentropy: 1.4361 - val_binary_accuracy: 0.5938\n",
      "Epoch 77/80\n",
      "1/1 - 0s - loss: 1.1531e-04 - binary_crossentropy: 1.5087e-05 - binary_accuracy: 1.0000 - val_loss: 1.4386 - val_binary_crossentropy: 1.4385 - val_binary_accuracy: 0.5938\n",
      "Epoch 78/80\n",
      "1/1 - 0s - loss: 1.1495e-04 - binary_crossentropy: 1.4668e-05 - binary_accuracy: 1.0000 - val_loss: 1.4407 - val_binary_crossentropy: 1.4406 - val_binary_accuracy: 0.5938\n",
      "Epoch 79/80\n",
      "1/1 - 0s - loss: 1.1463e-04 - binary_crossentropy: 1.4294e-05 - binary_accuracy: 1.0000 - val_loss: 1.4427 - val_binary_crossentropy: 1.4426 - val_binary_accuracy: 0.5938\n",
      "Epoch 80/80\n",
      "1/1 - 0s - loss: 1.1434e-04 - binary_crossentropy: 1.3958e-05 - binary_accuracy: 1.0000 - val_loss: 1.4444 - val_binary_crossentropy: 1.4443 - val_binary_accuracy: 0.5938\n"
     ]
    }
   ],
   "source": [
    "history = model.fit(\n",
    "    x=train_model_input,\n",
    "    y=train[target].values,  # numpy.ndarray\n",
    "    batch_size=256,\n",
    "    epochs=80,\n",
    "    verbose=2,\n",
    "    validation_split=0.2,    # validation 不用于训练，只记录 loss 和 metrics\n",
    ")"
   ]
  },
  {
   "cell_type": "code",
   "execution_count": 33,
   "id": "cb8023c7",
   "metadata": {},
   "outputs": [],
   "source": [
    "history_df = pd.DataFrame(history.history)"
   ]
  },
  {
   "cell_type": "code",
   "execution_count": 34,
   "id": "e7043bac",
   "metadata": {},
   "outputs": [
    {
     "data": {
      "text/plain": [
       "<AxesSubplot:title={'center':'Cross-entropy'}>"
      ]
     },
     "execution_count": 34,
     "metadata": {},
     "output_type": "execute_result"
    },
    {
     "data": {
      "image/png": "[encoded data removed]",
      "text/plain": [
       "<Figure size 432x288 with 1 Axes>"
      ]
     },
     "metadata": {
      "needs_background": "light"
     },
     "output_type": "display_data"
    }
   ],
   "source": [
    "history_df.loc[:, ['loss', 'val_loss']].plot(title=\"Cross-entropy\")"
   ]
  },
  {
   "cell_type": "code",
   "execution_count": 35,
   "id": "3f35b9af",
   "metadata": {},
   "outputs": [
    {
     "data": {
      "text/plain": [
       "<AxesSubplot:title={'center':'Binary Accuracy'}>"
      ]
     },
     "execution_count": 35,
     "metadata": {},
     "output_type": "execute_result"
    },
    {
     "data": {
      "image/png": "[encoded data removed]",
      "text/plain": [
       "<Figure size 432x288 with 1 Axes>"
      ]
     },
     "metadata": {
      "needs_background": "light"
     },
     "output_type": "display_data"
    }
   ],
   "source": [
    "history_df.loc[:, ['binary_accuracy', 'val_binary_accuracy']].plot(title=\"Binary Accuracy\")"
   ]
  },
  {
   "cell_type": "code",
   "execution_count": 36,
   "id": "5574d50b",
   "metadata": {},
   "outputs": [],
   "source": [
    "pred_ans = model.predict(test_model_input, batch_size=256)"
   ]
  },
  {
   "cell_type": "code",
   "execution_count": 37,
   "id": "901e7696",
   "metadata": {},
   "outputs": [
    {
     "name": "stdout",
     "output_type": "stream",
     "text": [
      "test LogLoss 1.4281\n"
     ]
    }
   ],
   "source": [
    "print(\"test LogLoss\", round(log_loss(test[target].values, pred_ans), 4))"
   ]
  },
  {
   "cell_type": "code",
   "execution_count": 38,
   "id": "b9035c6f",
   "metadata": {},
   "outputs": [
    {
     "name": "stdout",
     "output_type": "stream",
     "text": [
      "test AUC 0.5844\n"
     ]
    }
   ],
   "source": [
    "print(\"test AUC\", round(roc_auc_score(test[target].values, pred_ans), 4))"
   ]
  },
  {
   "cell_type": "code",
   "execution_count": 39,
   "id": "06e065b3",
   "metadata": {},
   "outputs": [],
   "source": [
    "pred = (pred_ans > 0.5).astype(int)"
   ]
  },
  {
   "cell_type": "code",
   "execution_count": 40,
   "id": "61165704",
   "metadata": {},
   "outputs": [
    {
     "name": "stdout",
     "output_type": "stream",
     "text": [
      "test Accuracy 0.6\n"
     ]
    }
   ],
   "source": [
    "print(\"test Accuracy\", round(accuracy_score(test[target].values, pred), 4))"
   ]
  },
  {
   "cell_type": "code",
   "execution_count": 41,
   "id": "c0783b19",
   "metadata": {},
   "outputs": [
    {
     "data": {
      "text/html": [
       "<div>\n",
       "<style scoped>\n",
       "    .dataframe tbody tr th:only-of-type {\n",
       "        vertical-align: middle;\n",
       "    }\n",
       "\n",
       "    .dataframe tbody tr th {\n",
       "        vertical-align: top;\n",
       "    }\n",
       "\n",
       "    .dataframe thead th {\n",
       "        text-align: right;\n",
       "    }\n",
       "</style>\n",
       "<table border=\"1\" class=\"dataframe\">\n",
       "  <thead>\n",
       "    <tr style=\"text-align: right;\">\n",
       "      <th></th>\n",
       "      <th>binary_accuracy</th>\n",
       "      <th>val_binary_accuracy</th>\n",
       "    </tr>\n",
       "  </thead>\n",
       "  <tbody>\n",
       "    <tr>\n",
       "      <th>0</th>\n",
       "      <td>0.695312</td>\n",
       "      <td>0.78125</td>\n",
       "    </tr>\n",
       "    <tr>\n",
       "      <th>1</th>\n",
       "      <td>0.695312</td>\n",
       "      <td>0.75000</td>\n",
       "    </tr>\n",
       "    <tr>\n",
       "      <th>2</th>\n",
       "      <td>0.695312</td>\n",
       "      <td>0.71875</td>\n",
       "    </tr>\n",
       "    <tr>\n",
       "      <th>3</th>\n",
       "      <td>0.695312</td>\n",
       "      <td>0.75000</td>\n",
       "    </tr>\n",
       "    <tr>\n",
       "      <th>4</th>\n",
       "      <td>0.710938</td>\n",
       "      <td>0.75000</td>\n",
       "    </tr>\n",
       "    <tr>\n",
       "      <th>...</th>\n",
       "      <td>...</td>\n",
       "      <td>...</td>\n",
       "    </tr>\n",
       "    <tr>\n",
       "      <th>75</th>\n",
       "      <td>1.000000</td>\n",
       "      <td>0.59375</td>\n",
       "    </tr>\n",
       "    <tr>\n",
       "      <th>76</th>\n",
       "      <td>1.000000</td>\n",
       "      <td>0.59375</td>\n",
       "    </tr>\n",
       "    <tr>\n",
       "      <th>77</th>\n",
       "      <td>1.000000</td>\n",
       "      <td>0.59375</td>\n",
       "    </tr>\n",
       "    <tr>\n",
       "      <th>78</th>\n",
       "      <td>1.000000</td>\n",
       "      <td>0.59375</td>\n",
       "    </tr>\n",
       "    <tr>\n",
       "      <th>79</th>\n",
       "      <td>1.000000</td>\n",
       "      <td>0.59375</td>\n",
       "    </tr>\n",
       "  </tbody>\n",
       "</table>\n",
       "<p>80 rows × 2 columns</p>\n",
       "</div>"
      ],
      "text/plain": [
       "    binary_accuracy  val_binary_accuracy\n",
       "0          0.695312              0.78125\n",
       "1          0.695312              0.75000\n",
       "2          0.695312              0.71875\n",
       "3          0.695312              0.75000\n",
       "4          0.710938              0.75000\n",
       "..              ...                  ...\n",
       "75         1.000000              0.59375\n",
       "76         1.000000              0.59375\n",
       "77         1.000000              0.59375\n",
       "78         1.000000              0.59375\n",
       "79         1.000000              0.59375\n",
       "\n",
       "[80 rows x 2 columns]"
      ]
     },
     "execution_count": 41,
     "metadata": {},
     "output_type": "execute_result"
    }
   ],
   "source": [
    "history_df[['binary_accuracy', 'val_binary_accuracy']]"
   ]
  },
  {
   "cell_type": "code",
   "execution_count": null,
   "id": "4ad0c217",
   "metadata": {},
   "outputs": [],
   "source": []
  }
 ],
 "metadata": {
  "kernelspec": {
   "display_name": "Python 3 (ipykernel)",
   "language": "python",
   "name": "python3"
  },
  "language_info": {
   "codemirror_mode": {
    "name": "ipython",
    "version": 3
   },
   "file_extension": ".py",
   "mimetype": "text/x-python",
   "name": "python",
   "nbconvert_exporter": "python",
   "pygments_lexer": "ipython3",
   "version": "3.8.2"
  }
 },
 "nbformat": 4,
 "nbformat_minor": 5
}
