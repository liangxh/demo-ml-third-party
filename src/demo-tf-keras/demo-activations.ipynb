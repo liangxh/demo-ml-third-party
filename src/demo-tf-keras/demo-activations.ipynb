{
 "cells": [
  {
   "cell_type": "code",
   "execution_count": null,
   "id": "d7382ddb",
   "metadata": {},
   "outputs": [],
   "source": [
    "import tensorflow as tf\n",
    "from tensorflow import keras\n",
    "from tensorflow.keras.layers import Activation"
   ]
  },
  {
   "cell_type": "code",
   "execution_count": null,
   "id": "0160bdf5",
   "metadata": {},
   "outputs": [],
   "source": [
    "import matplotlib.pyplot as plt\n",
    "\n",
    "plt.style.use('seaborn-whitegrid')\n",
    "plt.rc('figure', autolayout=True)\n",
    "plt.rc('axes', labelweight='bold', labelsize='large', titleweight='bold', titlesize=18, titlepad=10)"
   ]
  },
  {
   "cell_type": "code",
   "execution_count": null,
   "id": "f2e1fc7f",
   "metadata": {},
   "outputs": [],
   "source": [
    "def plot_activation(x, y):\n",
    "    x_min = x[0]\n",
    "    x_max = x[-1]\n",
    "    plt.figure(dpi=60)\n",
    "    plt.plot(x, y)\n",
    "    plt.xlim(x_min, x_max)\n",
    "    plt.xlabel(\"Input\")\n",
    "    plt.ylabel(\"Output\")\n",
    "    plt.show()"
   ]
  },
  {
   "cell_type": "code",
   "execution_count": null,
   "id": "629c37b6",
   "metadata": {},
   "outputs": [],
   "source": [
    "activation_layer = Activation('relu')\n",
    "\n",
    "x = tf.linspace(-3.0, 3.0, 100)\n",
    "y = activation_layer(x)\n",
    "\n",
    "plot_activation(x, y)"
   ]
  },
  {
   "cell_type": "code",
   "execution_count": null,
   "id": "e420497b",
   "metadata": {},
   "outputs": [],
   "source": [
    "activation_layer = Activation('tanh')\n",
    "\n",
    "x = tf.linspace(-30.0, 30.0, 3000)\n",
    "y = activation_layer(x)\n",
    "\n",
    "plot_activation(x, y)"
   ]
  },
  {
   "cell_type": "code",
   "execution_count": null,
   "id": "45f3961b",
   "metadata": {},
   "outputs": [],
   "source": [
    "activation_layer = Activation('sigmoid')\n",
    "\n",
    "x = tf.linspace(-30.0, 30.0, 30000)\n",
    "y = activation_layer(x)\n",
    "\n",
    "plot_activation(x, y)"
   ]
  },
  {
   "cell_type": "code",
   "execution_count": null,
   "id": "d38c210b",
   "metadata": {},
   "outputs": [],
   "source": []
  }
 ],
 "metadata": {
  "kernelspec": {
   "display_name": "Python 3 (ipykernel)",
   "language": "python",
   "name": "python3"
  },
  "language_info": {
   "codemirror_mode": {
    "name": "ipython",
    "version": 3
   },
   "file_extension": ".py",
   "mimetype": "text/x-python",
   "name": "python",
   "nbconvert_exporter": "python",
   "pygments_lexer": "ipython3",
   "version": "3.8.2"
  }
 },
 "nbformat": 4,
 "nbformat_minor": 5
}
