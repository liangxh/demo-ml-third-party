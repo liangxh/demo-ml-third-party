{
 "cells": [
  {
   "cell_type": "code",
   "execution_count": null,
   "id": "a52532e3",
   "metadata": {},
   "outputs": [],
   "source": [
    "import tensorflow as tf"
   ]
  },
  {
   "cell_type": "code",
   "execution_count": null,
   "id": "1a260ebe",
   "metadata": {},
   "outputs": [],
   "source": [
    "import numpy as np"
   ]
  },
  {
   "cell_type": "code",
   "execution_count": null,
   "id": "e0578886",
   "metadata": {},
   "outputs": [],
   "source": [
    "dir(tf.keras.losses)"
   ]
  },
  {
   "cell_type": "code",
   "execution_count": null,
   "id": "be90d37d",
   "metadata": {},
   "outputs": [],
   "source": [
    "# test MAE\n",
    "size = (2, 3)\n",
    "\n",
    "y_true = np.random.randint(0, 2, size=size)  # [0, 2)\n",
    "y_pred = np.random.random(size=size)\n",
    "\n",
    "loss = tf.keras.losses.mean_absolute_error(y_true, y_pred)\n",
    "\n",
    "assert loss.shape == (size[0],)\n",
    "assert np.array_equal( loss.numpy(), np.mean(np.abs(y_true - y_pred), axis=-1))"
   ]
  },
  {
   "cell_type": "code",
   "execution_count": null,
   "id": "fc85f753",
   "metadata": {},
   "outputs": [],
   "source": [
    "# test MSE\n",
    "size = (2, 3)\n",
    "\n",
    "y_true = np.random.randint(0, 2, size=size)\n",
    "y_pred = np.random.random(size=size)\n",
    "\n",
    "loss = tf.keras.losses.mean_squared_error(y_true, y_pred)\n",
    "\n",
    "assert loss.shape == (size[0],)\n",
    "assert np.array_equal( loss.numpy(), np.mean(np.square(y_true - y_pred), axis=-1))"
   ]
  },
  {
   "cell_type": "code",
   "execution_count": null,
   "id": "6dd2b748",
   "metadata": {},
   "outputs": [],
   "source": [
    "# test Binary-CrossEntropy\n",
    "max_n = 1\n",
    "n_samples = 10\n",
    "\n",
    "y_label = np.random.randint(0, max_n + 1, size=n_samples)\n",
    "y_true = np.zeros((n_samples, max_n + 1))\n",
    "y_true[np.arange(n_samples), y_label] = 1\n",
    "\n",
    "y_pred = np.random.random(size=(n_samples, max_n + 1))\n",
    "y_pred /= y_pred.sum(axis=1)[:, np.newaxis]\n",
    "\n",
    "loss = tf.keras.losses.binary_crossentropy(y_true, y_pred).numpy().astype(np.float32)\n",
    "loss_manual = np.array([\n",
    "    -np.log(y_pred[i, label])\n",
    "    for i, label in enumerate(y_label)\n",
    "])\n",
    "\n",
    "assert (loss - loss_manual < 1e-6).all()"
   ]
  },
  {
   "cell_type": "code",
   "execution_count": null,
   "id": "0a305a47",
   "metadata": {},
   "outputs": [],
   "source": [
    "# test Categorical-CrossEntropy\n",
    "max_n = 2\n",
    "n_samples = 100\n",
    "\n",
    "y_label = np.random.randint(0, max_n + 1, size=n_samples)\n",
    "y_true = np.zeros((n_samples, max_n + 1))\n",
    "y_true[np.arange(n_samples), y_label] = 1\n",
    "\n",
    "y_pred = np.random.random(size=(n_samples, max_n + 1))\n",
    "y_pred /= y_pred.sum(axis=1)[:, np.newaxis]\n",
    "\n",
    "\n",
    "loss_manual = np.array([\n",
    "    -np.log(y_pred[i, label])\n",
    "    for i, label in enumerate(y_label)\n",
    "])\n",
    "\n",
    "loss = tf.keras.losses.categorical_crossentropy(y_true, y_pred).numpy().astype(np.float32)\n",
    "assert (loss - loss_manual < 1e-6).all()\n",
    "\n",
    "# test Sparse Categorical-CrossEntropy\n",
    "\n",
    "loss = tf.keras.losses.sparse_categorical_crossentropy(y_label, y_pred).numpy().astype(np.float32)\n",
    "assert (loss - loss_manual < 1e-6).all()"
   ]
  },
  {
   "cell_type": "code",
   "execution_count": null,
   "id": "e8ca9544",
   "metadata": {},
   "outputs": [],
   "source": []
  },
  {
   "cell_type": "code",
   "execution_count": null,
   "id": "6b6082b5",
   "metadata": {},
   "outputs": [],
   "source": []
  }
 ],
 "metadata": {
  "kernelspec": {
   "display_name": "Python 3 (ipykernel)",
   "language": "python",
   "name": "python3"
  },
  "language_info": {
   "codemirror_mode": {
    "name": "ipython",
    "version": 3
   },
   "file_extension": ".py",
   "mimetype": "text/x-python",
   "name": "python",
   "nbconvert_exporter": "python",
   "pygments_lexer": "ipython3",
   "version": "3.8.2"
  }
 },
 "nbformat": 4,
 "nbformat_minor": 5
}
